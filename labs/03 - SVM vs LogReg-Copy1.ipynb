{
 "cells": [
  {
   "cell_type": "markdown",
   "metadata": {},
   "source": [
    "# CSCI-UA 0473 - Introduction to Machine Learning\n",
    "## Wednesday, February 07, 2018\n",
    "\n",
    "**Please download\n",
    "\n",
    "This lab will discuss the difference between SVM and Logistic Regression, and go through the implementation of both using naive `numpy` (not really, because we are using `autograd` to skip manual computation of the gradients).\n",
    "\n",
    "We will also go through the usage of `autograd` and `scipy.optimize.minimize()` in greater details, and take a look at numerical stability issues.\n",
    "\n",
    "<div class=\"alert alert-info\">\n",
    "Survey: anyone has trouble understanding, or is familiar with: <ul>\n",
    "<li> Python </li>\n",
    "<li> `numpy` </li>\n",
    "<li> Jupyter notebook </li>\n",
    "    </ul> <br>\n",
    "Throughout this course, we will also use `matplotlib` for plotting, `pandas` for tabular data manipulation\n",
    "</div>"
   ]
  },
  {
   "cell_type": "code",
   "execution_count": 10,
   "metadata": {
    "collapsed": true
   },
   "outputs": [],
   "source": [
    "%matplotlib inline \n",
    "\n",
    "import autograd.numpy as numpy\n",
    "import autograd.numpy.random as npr\n",
    "\n",
    "from autograd import grad\n",
    "\n",
    "import scipy.optimize\n",
    "import matplotlib.pyplot as plot\n",
    "\n",
    "import matplotlib\n",
    "\n",
    "numpy.random.seed(1234)"
   ]
  },
  {
   "cell_type": "markdown",
   "metadata": {},
   "source": [
    "## 1. Data Preparation\n",
    "\n",
    "For now, we are using artificial toy dataset with two classes, each of which corresponds to a 2D Gaussian blob."
   ]
  },
  {
   "cell_type": "code",
   "execution_count": 11,
   "metadata": {
    "collapsed": true
   },
   "outputs": [],
   "source": [
    "from sklearn.datasets import make_blobs\n",
    "\n",
    "# Construct two 2D Gaussian blobs centered at (1, 1) and (-1, -1) respectively.\n",
    "n_dim = 2\n",
    "x_train, y_train = make_blobs(n_samples=100, n_features=n_dim, centers=[[1,1],[-1,-1]], shuffle=True)\n",
    "x_test, y_test = make_blobs(n_samples=100, n_features=n_dim, centers=[[1,1],[-1,-1]], shuffle=True)\n",
    "\n",
    "# sklearn.datasets comes with a lot of artificial and natural (easy) datasets.\n",
    "# For a realistic-enough binary classification dataset, one can look at the\n",
    "# UCI ML Breast Cancer Wisconsin (Diagnostic) Dataset:\n",
    "# sklearn.datasets.load_breast_cancer()"
   ]
  },
  {
   "cell_type": "code",
   "execution_count": 12,
   "metadata": {
    "collapsed": true
   },
   "outputs": [],
   "source": [
    "# For SVMs, we expect the labels to be +1 and -1.\n",
    "y_train_svm = (y_train * 2) - 1\n",
    "y_test_svm = (y_test * 2) - 1\n",
    "\n",
    "# We keep the 0-1 label for logistic regression.\n",
    "y_train_lr = y_train.copy()\n",
    "y_test_lr = y_test.copy()"
   ]
  },
  {
   "cell_type": "code",
   "execution_count": 13,
   "metadata": {},
   "outputs": [
    {
     "name": "stdout",
     "output_type": "stream",
     "text": [
      "[ 1 -1 -1 -1  1  1  1  1  1 -1  1 -1 -1  1  1 -1  1 -1 -1  1  1  1 -1 -1 -1\n",
      "  1  1 -1  1  1  1  1 -1  1 -1 -1 -1  1 -1  1  1  1 -1  1  1 -1  1 -1 -1  1\n",
      "  1  1  1  1  1 -1  1  1 -1 -1 -1  1 -1 -1 -1  1 -1 -1  1 -1 -1  1 -1  1 -1\n",
      "  1 -1 -1 -1 -1  1 -1  1 -1  1  1  1 -1 -1  1 -1 -1  1  1 -1 -1 -1 -1  1 -1]\n",
      "[1 0 0 0 1 1 1 1 1 0 1 0 0 1 1 0 1 0 0 1 1 1 0 0 0 1 1 0 1 1 1 1 0 1 0 0 0\n",
      " 1 0 1 1 1 0 1 1 0 1 0 0 1 1 1 1 1 1 0 1 1 0 0 0 1 0 0 0 1 0 0 1 0 0 1 0 1\n",
      " 0 1 0 0 0 0 1 0 1 0 1 1 1 0 0 1 0 0 1 1 0 0 0 0 1 0]\n"
     ]
    }
   ],
   "source": [
    "print (y_train_svm)\n",
    "print (y_train_lr)"
   ]
  },
  {
   "cell_type": "markdown",
   "metadata": {},
   "source": [
    "## 2. Models Review"
   ]
  },
  {
   "cell_type": "markdown",
   "metadata": {},
   "source": [
    "\n",
    "### 2.1 Logistic Regression\n",
    "\n",
    "Recall that the logistic regression is a probabilistic model where (assuming the labels are given as 0 and 1)\n",
    "$$p(y^*_i=1\\mid \\mathbf{x}_i) = M(\\mathbf{x}_i) = \\mathrm{sigmoid}(\\mathbf{w}^T \\mathbf{x}_i) = \\dfrac{1}{1 + \\exp(-\\mathbf{w}^T x_i)}$$\n",
    "\n",
    "If we only want the classification result rather than the probability, we can simply check the sign of $\\mathbf{w}^T \\mathbf{x}_i$ without going through the sigmoid function.\n",
    "\n",
    "We find $\\mathbf{w}$ by minimizing the average *negative log probability* (which is equivalent to [Maximum Likelihood Estimation](https://en.wikipedia.org/wiki/Maximum_likelihood_estimation))\n",
    "\n",
    "$$\n",
    "D_\\mathrm{lr}(y_i, M, \\mathbf{x}_i) = -y_i \\log M(\\mathbf{x}_i) - (1 - y_i) \\log (1 - M(\\mathbf{x}_i))\n",
    "$$\n",
    "\n",
    "#### 2.1.1 Bias term\n",
    "\n",
    "For simplicity, we usually omit the bias term $b$ when writing the math formulation, assuming that $\\mathbf{x}$ includes the constant element 1 (Why the 1 is necessary?  This is in one of your homework).  In practice, we often add the bias term explicitly, that is:\n",
    "\n",
    "$$\n",
    "p(y^*_i=1\\mid \\mathbf{x}_i) = M(\\mathbf{x}_i) = \\mathrm{sigmoid}(\\mathbf{w}^T \\mathbf{x}_i + b) = \\dfrac{1}{1 + \\exp(-\\mathbf{w}^T x_i + b)}\n",
    "$$\n",
    "\n",
    "From now on, we will continue omitting the bias term $b$ in math formulations, but code it explicitly in implementations.\n",
    "\n",
    "#### 2.1.2 Logistic Loss\n",
    "\n",
    "An alternative of the empirical cost function for Logistic Regression is the *logistic loss*, assuming that the labels are given as +1 and -1:\n",
    "\n",
    "$$\n",
    "D_\\mathrm{log}(y_i, M, \\mathbf{x}_i) = \\sum_{i=1}^N \\dfrac{1}{\\log 2} \\log \\left(1 + \\exp (-y_i \\mathbf{w}^T \\mathbf{x}_i)\\right)\n",
    "$$\n",
    "\n",
    "<del>Unfortunately, </del>the equivalence between logistic loss and negative log probability is left as a later homework assignment.\n",
    "\n",
    "### 2.2 SVM\n",
    "\n",
    "SVM classifies examples by checking the sign of $\\mathbf{w}^T \\mathbf{x}_i$ as well.  However the empirical cost function (hence the learning rule) is different:\n",
    "\n",
    "$$\n",
    "J(\\mathbf{w}, D_{\\mathrm{tra}}) = \\dfrac{1}{N} \\sum_{i=1}^N \\max \\left(0, 1 - y_i \\mathbf{w}^T \\mathbf{x}_i\\right) + \\lambda \\lVert \\mathbf{w} \\rVert^2\n",
    "$$\n",
    "\n",
    "where $\\lambda$ is a constant.  In the lecture note, $\\lambda = \\dfrac{C}{2}$.\n",
    "\n",
    "### 2.3 Loss curves of both functions"
   ]
  },
  {
   "cell_type": "code",
   "execution_count": 19,
   "metadata": {},
   "outputs": [
    {
     "data": {
      "image/png": "[encoded data removed]",
      "text/plain": [
       "<matplotlib.figure.Figure at 0x1a192d5f28>"
      ]
     },
     "metadata": {},
     "output_type": "display_data"
    }
   ],
   "source": [
    "x = numpy.linspace(-5, 2, 300)\n",
    "log_loss = 1. / numpy.log(2) * numpy.log(1 + numpy.exp(-x))\n",
    "hinge_loss = numpy.maximum(0, 1 - x)\n",
    "zero_one_loss = (x < 0)\n",
    "plot.gcf().set_size_inches(10, 8)\n",
    "plot.plot(x, log_loss, label='Logistic Loss')\n",
    "plot.plot(x, hinge_loss, label='Hinge Loss')\n",
    "plot.plot(x, zero_one_loss, label='0-1 Loss')\n",
    "plot.legend(loc='best')\n",
    "plot.show()"
   ]
  },
  {
   "cell_type": "markdown",
   "metadata": {},
   "source": [
    "## 3. Implementation\n",
    "\n",
    "### 3.1 Logistic Regression (code review)\n",
    "\n",
    "Most of the code for Logistic Regression is available in the previous lab.\n",
    "\n",
    "<div class=\"alert alert-info\">\n",
    "**Hint**: To write efficient `numpy` code, use as few operations as possible.\n",
    "</div>\n",
    "\n",
    "<div class=\"alert alert-warning\">\n",
    "**Beware**: When coding any mathematical expression, keep an eye on potential *numerical stability issues*.  Careless implementations may yield inaccurate results, exhibit bizarre behavior or even crash.  The most horrible numerical instabilities include overflow (e.g. `numpy.log(1 + numpy.exp(800))`) and underflow (e.g. `numpy.log(0.8 ** 1000000)`).\n",
    "</div>\n",
    "\n",
    "<div class=\"alert alert-danger\">\n",
    "Please answer the four questions in the following cell.  *You do not need to code anything.*\n",
    "</div>"
   ]
  },
  {
   "cell_type": "code",
   "execution_count": 27,
   "metadata": {
    "collapsed": true
   },
   "outputs": [],
   "source": [
    "# The sigmoid function\n",
    "def sigmoid(x):\n",
    "    ########## QUESTION 1 ##########\n",
    "    # What will happen if x = 10000? -> 1 How about -10000? -> 0\n",
    "    return 1. / (1. + numpy.exp(-x))\n",
    "\n",
    "# The prediction function\n",
    "# x is either 2D array with shape (num_samples, num_features), i.e., each row is a training sample vector,\n",
    "# or a 1D array containing a single sample vector.\n",
    "# params is a 1D array with shape (num_features + 1,) representing the weight vector plus a bias.\n",
    "# pre: whether we want a pre-sigmoid value (between -inf and inf) or an actual probability (between 0 and 1)\n",
    "def logreg(x, params, pre=False):\n",
    "    w, b = params[:-1], params[-1]\n",
    "    ########## QUESTION 2 ##########\n",
    "    # Can we make the following two statements more efficient?\n",
    "    #x = x.reshape([1, -1]) if len(x.shape) < 2 else x\n",
    "    #y = numpy.sum(x * w, axis=1) + b\n",
    "    # numpy matrix multiplication, more efficient (multiplication using @)\n",
    "    # y = x @ w + b\n",
    "    y = numpy.dot(x,w) + b\n",
    "    ########## END QUESTION 2 ##########\n",
    "    \n",
    "    if pre:\n",
    "        return y\n",
    "    return sigmoid(y)\n",
    "\n",
    "# The distance (cost) function, either per-sample or average\n",
    "def logreg_dist(y, x, params, avg=False):\n",
    "    y_ = logreg(x, params)\n",
    "    ########## QUESTION 3 ##########\n",
    "    # What will happen if the small constant 1e-12 is removed?\n",
    "    d = -(y * numpy.log(y_ + 1e-12) + (1. - y) * numpy.log(1. - y_ + 1e-12))\n",
    "    # underflow + overflow (log(0) is undefined)\n",
    "    ########## END QUESTION 3 ##########\n",
    "    \n",
    "    if not avg:\n",
    "        return d\n",
    "    return numpy.mean(d)\n",
    "\n",
    "# The empirical cost function\n",
    "def logreg_cost(params, x, y):\n",
    "    return logreg_dist(y, x, params, avg=True)\n",
    "\n",
    "# The next thing we need is the gradient function, which can be easily computed via autograd.grad().\n",
    "# autograd.grad() takes in a function f and the index of argument x with respect to which the gradient would be computed.\n",
    "# It then returns a function.  That function has the same argument list as f, but it returns df/dx instead.\n",
    "# Example:\n",
    "# >>> def f(x):\n",
    "# ...     return x ** 2\n",
    "# >>> df_dx = grad(f) # 2 * x\n",
    "# >>> print(df_dx(5.))\n",
    "# 10.0\n",
    "# >>> def g(x, y):\n",
    "# ...     return (x @ y).sum()\n",
    "# >>> dg_dx = grad(g, 0) # y\n",
    "# >>> dg_dy = grad(g, 1) # x\n",
    "# >>> x = numpy.array([1., 2., 3.])\n",
    "# >>> y = numpy.array([4., 5., 6.])\n",
    "# >>> print(dg_dx(x, y), dg_dy(x, y))\n",
    "# [4. 5. 6.] [1. 2. 3.]\n",
    "#\n",
    "# Here, we compute the gradient of cost with respect to the parameters\n",
    "logreg_rule = grad(logreg_cost)\n",
    "\n",
    "########## QUESTION 4 ##########\n",
    "# Do you expect logreg_rule(params, x, y) would give the correct gradients w.r.t. params, given the following values?\n",
    "#x = numpy.array([10000., 10000.])\n",
    "#y = numpy.array(1.)\n",
    "#params = numpy.array([-1., -1., -1.])\n",
    "#print(logreg_rule(params, x, y))\n",
    "# no\n",
    "########## END QUESTION 4 ##########"
   ]
  },
  {
   "cell_type": "markdown",
   "metadata": {},
   "source": [
    "### 3.2 SVM\n",
    "\n",
    "For reference, the score function is simply $\\mathbf{w}^T \\mathbf{x}$, and the empirical cost function is\n",
    "\n",
    "$$\n",
    "J(\\mathbf{w}, D_{\\mathrm{tra}}) = \\dfrac{1}{N} \\sum_{i=1}^N \\max \\left(0, 1 - y_i \\mathbf{w}^T \\mathbf{x}_i\\right) + \\lambda \\lVert \\mathbf{w} \\rVert^2\n",
    "$$\n",
    "\n",
    "<div class=\"alert alert-danger\">\n",
    "Please fill in the `YOUR CODE HERE` sections with your implementation.\n",
    "</div>"
   ]
  },
  {
   "cell_type": "code",
   "execution_count": 41,
   "metadata": {
    "collapsed": true
   },
   "outputs": [],
   "source": [
    "# The prediction function\n",
    "# x is either 2D array with shape (num_samples, num_features), i.e., each row is a training sample vector,\n",
    "# or a 1D array containing a single sample vector.\n",
    "# params is a 1D array with shape (num_features + 1,) representing the weight vector plus a bias.\n",
    "# pre: whether we want a pre-sign value (between -inf and inf) or the actual class label (-1 or +1)\n",
    "def svm(x, params, pre=False):\n",
    "    # (1)\n",
    "    # Get the bias term from the last element of @params, and get the weight vector from the rest.\n",
    "    # YOUR CODE HERE\n",
    "    w = params[:-1]\n",
    "    b = params[-1]\n",
    "    \n",
    "    # (2)\n",
    "    # Compute the score.  Do not forget the bias term!\n",
    "    # Your score should be a 1D array with num_samples elements for a 2D @x, or a scalar for a 1D @x.\n",
    "    # YOUR CODE HERE\n",
    "    #y = x @ w + b\n",
    "    y = numpy.dot(x,w) + b\n",
    "    \n",
    "    # (3) If @pre is True, return the score itself.  Otherwise, return the sign of the score.\n",
    "    # YOUR CODE HERE\n",
    "    return y if not pre else numpy.sign(y)\n",
    "    \n",
    "    # (4) Delete the \"pass\" statement if you have completed everything above.\n",
    "    #pass\n",
    "\n",
    "# Empirical cost function.\n",
    "# y: 1D array or a scalar containing the ground truth label(s).  Each element is either +1 or -1.\n",
    "# x: 2D array or 1D array containing the examples.\n",
    "# params: 1D array with shape (num_features + 1)\n",
    "# avg: whether we want the per-example hinge loss or the empirical cost function\n",
    "def svm_dist(y, x, params, avg=False, lambda_=1):\n",
    "    # (1)\n",
    "    # Call svm() to get the pre-sign score.\n",
    "    # YOUR CODE HERE\n",
    "    s = svm(x, params, True)\n",
    "    \n",
    "    # (2)\n",
    "    # Compute hinge loss, which is the \"max\" term within the summation, for each example.\n",
    "    # YOUR CODE HERE\n",
    "    l = numpy.maximum(0, 1 - y * s)\n",
    "    \n",
    "    # (3)\n",
    "    # If avg is False, return the per-example hinge loss.  Otherwise, return the empirical cost function.\n",
    "    # Recall that the cost function is the sum of an average and a norm.\n",
    "    # YOUR CODE HERE\n",
    "    return l if not avg else numpy.mean(l) + lambda_ * numpy.sum(params ** 2)\n",
    "    # numpy.linalg.norm ===== computes vector norm (L2)\n",
    "    \n",
    "    # (4) Delete the \"pass\" statement if you have completed everything above.\n",
    "    #pass\n",
    "\n",
    "def svm_cost(w, x, y, lambda_=1):\n",
    "    return svm_dist(y, x, w, avg=True, lambda_=lambda_)\n",
    "\n",
    "# Compute the gradient.\n",
    "svm_rule = grad(svm_cost, 0)   # YOUR CODE HERE: replace None with the correct function call."
   ]
  },
  {
   "cell_type": "markdown",
   "metadata": {},
   "source": [
    "## 3. Training\n",
    "\n",
    "The cost functions for both Logistic Regression and SVM are [*convex*](https://en.wikipedia.org/wiki/Convex_function).  This is good news since (1) if the gradient w.r.t. the weight is 0, then this is guaranteed to be optimal, and (2) we have a lot of efficient methods to find the optimal solution.\n",
    "\n",
    "The detail of convex optimization is out of scope of the course.  Here, we will focus on how to optimize Logistic Regression or SVM using `scipy`."
   ]
  },
  {
   "cell_type": "markdown",
   "metadata": {},
   "source": [
    "### 3.1 Logistic Regression\n",
    "\n",
    "<div class=\"alert alert-danger\">\n",
    "Please fill in the `YOUR CODE HERE` section with your implementation.\n",
    "</div>"
   ]
  },
  {
   "cell_type": "code",
   "execution_count": 42,
   "metadata": {},
   "outputs": [
    {
     "name": "stdout",
     "output_type": "stream",
     "text": [
      "      fun: 0.5727361305969861\n",
      " hess_inv: array([[ 3.22884691, -1.50434116, -1.59905721],\n",
      "       [-1.50434116,  2.70492024,  0.19824875],\n",
      "       [-1.59905721,  0.19824875,  5.25684338]])\n",
      "      jac: array([ -9.74925206e-06,  -5.14190295e-06,  -6.72506765e-06])\n",
      "  message: 'Optimization terminated successfully.'\n",
      "     nfev: 11\n",
      "      nit: 10\n",
      "     njev: 11\n",
      "   status: 0\n",
      "  success: True\n",
      "        x: array([-0.60345078, -0.09786909,  0.49902333])\n"
     ]
    }
   ],
   "source": [
    "# Initialize the parameters\n",
    "# Usually, we randomly initialize weights, but set the bias term to 0.\n",
    "params = 0.01 * numpy.random.randn(n_dim+1); params[-1] = 0.\n",
    "\n",
    "# Use scipy.optimize.minimize to perform convex optimization.\n",
    "# You can read the documentation for the complete description, but here's the most common use case:\n",
    "# result = scipy.optimize.minimize(f, x0, other_arguments, method=None, jac=None)\n",
    "# where\n",
    "# @f: the function you want to minimize.  It takes @x0 as the first argument, and the rest from @other_arguments\n",
    "# @x0: the initial value of x.\n",
    "# @other_arguments: a list of other arguments to be passed into @f.\n",
    "# @method: generally safe to leave as None, although you can select your own method.\n",
    "# @jac: the function taking exactly the same arguments as @f and returning df/dx.  Thanks to autograd we already have it.\n",
    "# It returns some structure.  The ones you would probably care the most are\n",
    "# result.x: the final x which gives the minimum.\n",
    "# result.success: whether the optimization succeeded or not.\n",
    "logreg_model = scipy.optimize.minimize(logreg_cost, params, (x_train, y_train_lr), jac=logreg_rule) # YOUR CODE HERE: replace None with the function call.\n",
    "\n",
    "params_logreg = logreg_model.x\n",
    "print(logreg_model)"
   ]
  },
  {
   "cell_type": "markdown",
   "metadata": {},
   "source": [
    "### 3.2 SVM\n",
    "\n",
    "<div class=\"alert alert-danger\">\n",
    "Please fill in the `YOUR CODE HERE` section with your implementation.\n",
    "</div>"
   ]
  },
  {
   "cell_type": "code",
   "execution_count": 43,
   "metadata": {},
   "outputs": [
    {
     "name": "stdout",
     "output_type": "stream",
     "text": [
      "      fun: 0.5818181818181818\n",
      " hess_inv: array([[1, 0, 0],\n",
      "       [0, 1, 0],\n",
      "       [0, 0, 1]])\n",
      "      jac: array([  2.13311953e-13,  -9.81997144e-13,   0.00000000e+00])\n",
      "  message: 'Optimization terminated successfully.'\n",
      "     nfev: 4\n",
      "      nit: 1\n",
      "     njev: 4\n",
      "   status: 0\n",
      "  success: True\n",
      "        x: array([  1.06655976e-13,  -4.90998572e-13,   0.00000000e+00])\n"
     ]
    }
   ],
   "source": [
    "params = 1e-4 * numpy.random.randn(n_dim+1); params[-1] = 0.\n",
    "\n",
    "# (1) Call scipy's minimize method on SVM.\n",
    "svm_model = scipy.optimize.minimize(svm_cost, params, (x_train, y_train_svm), jac=svm_rule) # YOUR CODE HERE: replace None with the function call.\n",
    "\n",
    "params_svm = svm_model.x\n",
    "\n",
    "print (svm_model)"
   ]
  },
  {
   "cell_type": "markdown",
   "metadata": {},
   "source": [
    "### 3.3 Visualization and Analysis"
   ]
  },
  {
   "cell_type": "code",
   "execution_count": 31,
   "metadata": {
    "collapsed": true
   },
   "outputs": [],
   "source": [
    "# Visualize data\n",
    "# x: a 2D array with shape (num_samples, 2); each example vector has two components only\n",
    "# y: a 1D array with shape (num_samples,); each element is a label of the example vector, taking either 0 or 1\n",
    "# c: color, 'r' for red, 'g' for green, etc.  See the documentation of matplotlib.pyplot.plot for more.\n",
    "# title: the title of the figure\n",
    "def vis_data(x, y = None, c='r', title = ''):\n",
    "    if y is None: \n",
    "        y = [None] * len(x)\n",
    "    for x_, y_ in zip(x, y):\n",
    "        if y_ is None:\n",
    "            # We either use matplotlib.pyplot.plot() or matplotlib.pyplot.scatter() to draw scatter plots.\n",
    "            # A common use case is\n",
    "            # matplotlib.pyplot.plot(x, y, marker)\n",
    "            # where marker is usually a combination of style and color (e.g. 'r+' for red pluses, 'gx' for green crosses)\n",
    "            plot.plot(x_[0], x_[1], c + 'o')\n",
    "        else:\n",
    "            plot.plot(x_[0], x_[1], c + 'o' if y_ == 0 else c + '+')\n",
    "    # Turn on the grid and set the title\n",
    "    plot.grid('on')\n",
    "    plot.title(title)"
   ]
  },
  {
   "cell_type": "code",
   "execution_count": 32,
   "metadata": {
    "collapsed": true
   },
   "outputs": [],
   "source": [
    "def vis_hyperplane(w, typ='k--', label=None):\n",
    "    \n",
    "    # Matplotlib organizes the plots into figures and axes.\n",
    "    # Each axis handles the style of x-axis, y-axis, and the actual plot inside.\n",
    "    # Each figure can contain multiple axes.\n",
    "    # Here, we need to get the range of x and y of the current axis, compute the intersection of the hyperplane and the\n",
    "    # window, and draw a line.\n",
    "    lim0 = plot.gca().get_xlim()\n",
    "    lim1 = plot.gca().get_ylim()\n",
    "    m0, m1 = lim0[0], lim0[1]\n",
    "\n",
    "    intercept0 = -(w[0] * m0 + w[-1])/w[1]\n",
    "    intercept1 = -(w[0] * m1 + w[-1])/w[1]\n",
    "    \n",
    "    plt1, = plot.plot([m0, m1], [intercept0, intercept1], typ, label=label)\n",
    "\n",
    "    plot.gca().set_xlim(lim0)\n",
    "    plot.gca().set_ylim(lim1)\n",
    "    \n",
    "    return plt1"
   ]
  },
  {
   "cell_type": "code",
   "execution_count": 33,
   "metadata": {},
   "outputs": [
    {
     "name": "stderr",
     "output_type": "stream",
     "text": [
      "/Users/goki/anaconda3/lib/python3.6/site-packages/ipykernel_launcher.py:12: RuntimeWarning: invalid value encountered in double_scalars\n",
      "  if sys.path[0] == '':\n",
      "/Users/goki/anaconda3/lib/python3.6/site-packages/ipykernel_launcher.py:13: RuntimeWarning: invalid value encountered in double_scalars\n",
      "  del sys.path[0]\n"
     ]
    },
    {
     "data": {
      "image/png": "[encoded data removed]",
      "text/plain": [
       "<matplotlib.figure.Figure at 0x1a1cda0f98>"
      ]
     },
     "metadata": {},
     "output_type": "display_data"
    },
    {
     "name": "stdout",
     "output_type": "stream",
     "text": [
      "LogReg: -5.0 x_1 + -2.5 x_2 + 0.58 = 0\n",
      "SVM: 0.00 x_1 + 0.00 x_2 + 0.00 = 0\n"
     ]
    }
   ],
   "source": [
    "# Make a new figure and visualize the data and hyperplane\n",
    "plot.figure()\n",
    "\n",
    "vis_data(x_train, y_train_lr, c='r')\n",
    "\n",
    "plt0 = vis_hyperplane(params_logreg, 'b--', label='LogReg')\n",
    "plt1 = vis_hyperplane(params_svm, 'g--', label='SVM')\n",
    "\n",
    "plot.legend(loc='best')\n",
    "\n",
    "plot.show()\n",
    "\n",
    "print ('LogReg: {:.2} x_1 + {:.2} x_2 + {:.2} = 0'.format(*list(params_logreg)))\n",
    "print ('SVM: {:.2f} x_1 + {:.2f} x_2 + {:.2f} = 0'.format(*list(params_svm)))"
   ]
  },
  {
   "cell_type": "markdown",
   "metadata": {},
   "source": [
    "If you implemented SVM correctly, the decision boundaries should be (somehow) similar.\n",
    "\n",
    "For most real-world scenarios, Logistic Regression and SVM indeed perform comparably.  However, we can construct some corner cases to show the difference between the two."
   ]
  },
  {
   "cell_type": "markdown",
   "metadata": {},
   "source": [
    "### 3.4 Yet another visualization and analysis"
   ]
  },
  {
   "cell_type": "code",
   "execution_count": 34,
   "metadata": {
    "collapsed": true
   },
   "outputs": [],
   "source": [
    "x_train_more, y_train_more = make_blobs(n_samples=10, n_features=n_dim, centers=[[3, 3]], shuffle=True)\n",
    "x_test_more, y_test_more = make_blobs(n_samples=10, n_features=n_dim, centers=[[3, 3]], shuffle=True)"
   ]
  },
  {
   "cell_type": "code",
   "execution_count": 35,
   "metadata": {},
   "outputs": [
    {
     "name": "stdout",
     "output_type": "stream",
     "text": [
      "[0 0 0 0 0 0 0 0 0 0]\n",
      "[1 1 1 1 1 1 1 1 1 1]\n"
     ]
    }
   ],
   "source": [
    "print (y_train_more)\n",
    "\n",
    "y_train_more[y_train_more == 0] = 1\n",
    "y_test_more[y_test_more == 0] = 1\n",
    "\n",
    "print (y_train_more)"
   ]
  },
  {
   "cell_type": "code",
   "execution_count": 36,
   "metadata": {
    "collapsed": true
   },
   "outputs": [],
   "source": [
    "# Append the new data points to the existing set of 100 training and test points\n",
    "\n",
    "x_train = numpy.vstack((x_train, x_train_more))\n",
    "x_test = numpy.vstack((x_test, x_test_more))\n",
    "\n",
    "y_train_lr = numpy.append(y_train_lr, y_train_more)\n",
    "y_test_lr = numpy.append(y_test_lr, y_test_more)\n",
    "\n",
    "y_train_svm = numpy.append(y_train_svm, (y_train_more * 2) - 1)\n",
    "y_test_svm = numpy.append(y_test_svm, (y_test_more * 2) - 1)"
   ]
  },
  {
   "cell_type": "code",
   "execution_count": 37,
   "metadata": {},
   "outputs": [
    {
     "name": "stdout",
     "output_type": "stream",
     "text": [
      "Number of training points:  (110, 2)\n"
     ]
    }
   ],
   "source": [
    "print ('Number of training points: ', x_train.shape)"
   ]
  },
  {
   "cell_type": "code",
   "execution_count": 38,
   "metadata": {},
   "outputs": [
    {
     "data": {
      "image/png": "[encoded data removed]",
      "text/plain": [
       "<matplotlib.figure.Figure at 0x1a1cadca20>"
      ]
     },
     "metadata": {},
     "output_type": "display_data"
    }
   ],
   "source": [
    "vis_data(x_train, y_train_lr, c='r')"
   ]
  },
  {
   "cell_type": "code",
   "execution_count": 39,
   "metadata": {},
   "outputs": [
    {
     "name": "stdout",
     "output_type": "stream",
     "text": [
      "      fun: 0.57273613043540439\n",
      " hess_inv: <3x3 LbfgsInvHessProduct with dtype=float64>\n",
      "      jac: array([  1.43392258e-06,   1.77502446e-06,   1.51147063e-07])\n",
      "  message: b'CONVERGENCE: NORM_OF_PROJECTED_GRADIENT_<=_PGTOL'\n",
      "     nfev: 10\n",
      "      nit: 9\n",
      "   status: 0\n",
      "  success: True\n",
      "        x: array([-0.60343355, -0.09786515,  0.49904868])\n",
      "[ 0.  0.  0.]\n"
     ]
    }
   ],
   "source": [
    "######## Logistic Regression ########\n",
    "params = 0.01 * numpy.random.randn(n_dim+1); params[-1] = 0.\n",
    "\n",
    "logreg_model = scipy.optimize.minimize(logreg_cost, params, (x_train, y_train_lr), method='L-BFGS-B', jac=logreg_rule)\n",
    "\n",
    "params_logreg = logreg_model.x\n",
    "\n",
    "print (logreg_model)\n",
    "\n",
    "\n",
    "####### SVM #######\n",
    "params = 1e-4 * npr.randn(n_dim+1); params[-1] = 0.\n",
    "\n",
    "svm_model = scipy.optimize.minimize(svm_cost, params, (x_train, y_train_svm), \n",
    "                              method='L-BFGS-B', jac=svm_rule)\n",
    "\n",
    "params_svm = svm_model.x\n",
    "\n",
    "print (params_svm)"
   ]
  },
  {
   "cell_type": "code",
   "execution_count": 40,
   "metadata": {},
   "outputs": [
    {
     "name": "stderr",
     "output_type": "stream",
     "text": [
      "/Users/goki/anaconda3/lib/python3.6/site-packages/ipykernel_launcher.py:12: RuntimeWarning: invalid value encountered in double_scalars\n",
      "  if sys.path[0] == '':\n",
      "/Users/goki/anaconda3/lib/python3.6/site-packages/ipykernel_launcher.py:13: RuntimeWarning: invalid value encountered in double_scalars\n",
      "  del sys.path[0]\n"
     ]
    },
    {
     "data": {
      "image/png": "[encoded data removed]",
      "text/plain": [
       "<matplotlib.figure.Figure at 0x1a1cadc3c8>"
      ]
     },
     "metadata": {},
     "output_type": "display_data"
    },
    {
     "name": "stdout",
     "output_type": "stream",
     "text": [
      "LogReg: -0.6 x_1 + -0.098 x_2 + 0.5 = 0\n",
      "SVM: 0.00 x_1 + 0.00 x_2 + 0.00 = 0\n"
     ]
    }
   ],
   "source": [
    "plot.figure()\n",
    "\n",
    "vis_data(x_train, y_train_lr, c='r')\n",
    "\n",
    "plt0 = vis_hyperplane(params_logreg, 'b--')\n",
    "plt1 = vis_hyperplane(params_svm, 'g--')\n",
    "\n",
    "plot.legend([plt0, plt1], ['LogReg', 'SVM'], loc='best')\n",
    "\n",
    "plot.show()\n",
    "\n",
    "print ('LogReg: {:.2} x_1 + {:.2} x_2 + {:.2} = 0'.format(*list(params_logreg)))\n",
    "print ('SVM: {:.2f} x_1 + {:.2f} x_2 + {:.2f} = 0'.format(*list(params_svm)))"
   ]
  },
  {
   "cell_type": "markdown",
   "metadata": {},
   "source": [
    "### 3.5 Conclusion\n",
    "\n",
    "We can see from the examples above that **Logistic Regression seems more sensitive to outliers than SVM**.\n",
    "\n",
    "<div class=\"alert alert-danger\">\n",
    "**Question**: why is it so?\n",
    "</div>"
   ]
  },
  {
   "cell_type": "code",
   "execution_count": null,
   "metadata": {
    "collapsed": true
   },
   "outputs": [],
   "source": [
    "# logistic regression curve does not end, converges to 0, therefore it is more sensitive to outliers since it will keep computing"
   ]
  },
  {
   "cell_type": "markdown",
   "metadata": {},
   "source": [
    "## 4 Some more stuff to try?\n",
    "\n",
    "If you are interested at all,\n",
    "\n",
    "1. Rewrite the logistic regression so that it is more accurate for extreme values.\n",
    "2. Try both models on a more realistic, high-dimensional dataset.  `sklearn.datasets` provides a bunch of realistic datasets to play with.\n",
    "3. How should we choose between Logistic Regression and SVM (and other models), and for SVMs, how do we choose $\\lambda$?\n",
    "\n",
    "<div class=\"alert alert-danger\">\n",
    "**Note**: The tasks above and their variations [**MAY**](https://www.ietf.org/rfc/rfc2119.txt) appear in future homework!\n",
    "</div>"
   ]
  },
  {
   "cell_type": "code",
   "execution_count": null,
   "metadata": {
    "collapsed": true
   },
   "outputs": [],
   "source": []
  }
 ],
 "metadata": {
  "kernelspec": {
   "display_name": "Python 3",
   "language": "python",
   "name": "python3"
  },
  "language_info": {
   "codemirror_mode": {
    "name": "ipython",
    "version": 3
   },
   "file_extension": ".py",
   "mimetype": "text/x-python",
   "name": "python",
   "nbconvert_exporter": "python",
   "pygments_lexer": "ipython3",
   "version": "3.6.3"
  }
 },
 "nbformat": 4,
 "nbformat_minor": 1
}
