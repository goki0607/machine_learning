{
 "cells": [
  {
   "cell_type": "markdown",
   "metadata": {},
   "source": [
    "# CSCI-UA 0473 - Introduction to Machine Learning\n",
    "## Homework 4\n",
    "### Assignment 4 - Adaptive RBFN and Stochastic Gradient Descent (25 Points)"
   ]
  },
  {
   "cell_type": "markdown",
   "metadata": {},
   "source": [
    "The task for this homework is again that of handwritten digit recognition on the MNIST dataset.  **For this time, you will train on the full dataset (that is, 60000 training images plus 10000 test images), rather than a small subset.**\n",
    "\n",
    "Your first goal is to implement an adaptive radial basis function network, and train it with stochastic gradient descent (SGD), while going over a few questions.\n",
    "\n",
    "<div class=\"alert alert-danger\">\n",
    "**Please do not miss any text with red background; they are either questions you need to answer, or directions to implement some functionality.**\n",
    "</div>\n",
    "\n",
    "<div class=\"alert alert-warning\">\n",
    "**Please start this homework early.**  Stochastic gradient descent will take a particularly long time to train.\n",
    "</div>\n",
    "\n",
    "<div class=\"alert alert-warning\">\n",
    "**Please submit a fully-run notebook; not doing so would incur at least 10% penalty problem-wise.**\n",
    "</div>"
   ]
  },
  {
   "cell_type": "code",
   "execution_count": 1,
   "metadata": {
    "collapsed": true
   },
   "outputs": [],
   "source": [
    "import autograd.numpy as np\n",
    "import autograd.scipy as ascipy\n",
    "import autograd.misc.flatten\n",
    "from autograd import value_and_grad\n",
    "import scipy.optimize\n",
    "import pickle\n",
    "\n",
    "import matplotlib.pyplot as plot\n",
    "%matplotlib inline"
   ]
  },
  {
   "cell_type": "markdown",
   "metadata": {},
   "source": [
    "## 1. Data"
   ]
  },
  {
   "cell_type": "code",
   "execution_count": 2,
   "metadata": {
    "collapsed": true
   },
   "outputs": [],
   "source": [
    "npz = np.load('mnist.npz')\n",
    "# Labels\n",
    "train_labels = npz['train_labels']\n",
    "test_labels = npz['test_labels']\n",
    "# Data.  We linearly scale the integers into something between 0 and 1.\n",
    "train_data = npz['train_data'] / 255.\n",
    "test_data = npz['test_data'] / 255."
   ]
  },
  {
   "cell_type": "markdown",
   "metadata": {},
   "source": [
    "The shapes and types for each numpy array is:\n",
    "\n",
    "* `train_data`: 60000x28x28 float64 array\n",
    "* `train_labels`: 60000 int64 array\n",
    "* `test_data`: 10000x28x28 float64 array\n",
    "* `test_labels`: 10000 int64 array\n",
    "\n",
    "The digit for i-th training data (`train_data[i]`) is `train_labels[i]`.  The same holds for test data."
   ]
  },
  {
   "cell_type": "code",
   "execution_count": 3,
   "metadata": {},
   "outputs": [
    {
     "data": {
      "text/plain": [
       "Text(0.5,1.05,'Digit 5')"
      ]
     },
     "execution_count": 3,
     "metadata": {},
     "output_type": "execute_result"
    },
    {
     "data": {
      "image/png": "[encoded data removed]",
      "text/plain": [
       "<Figure size 288x288 with 1 Axes>"
      ]
     },
     "metadata": {},
     "output_type": "display_data"
    }
   ],
   "source": [
    "plot.matshow(train_data[0], vmin=0, vmax=1, cmap='gray')\n",
    "# See help(str.format) or https://docs.python.org/3.1/library/string.html#formatspec for usage of the Pythonic formatter\n",
    "# If you are comfortable with C you can also write things like sprintf(): 'Digit %d' % (train_labels[0])\n",
    "plot.title('Digit {}'.format(train_labels[0]))"
   ]
  },
  {
   "cell_type": "markdown",
   "metadata": {},
   "source": [
    "## 2. Model Definition\n",
    "\n",
    "The first thing we need is model definition.  Recall that the Gaussian Radial Basis Function we have learned in the class transforms an arbitrary input vector $\\mathbf{x} \\in \\mathbb{R}^d$ into another vector $\\phi(\\mathbf{x}) \\in \\mathbb{R}^k$ based on a set of bases $\\mathbf{r}_k$:\n",
    "\n",
    "$$\n",
    "\\phi(\\mathbf{x})_k = \\exp\\left(\\lVert \\mathbf{x} - \\mathbf{r}_k \\rVert^2\\right) = \\exp \\left( - \\sum_{i=1}^d (x_i - r_{ki})^2\\right)\n",
    "$$\n",
    "\n",
    "An alternative would be taking an average of the squares instead of summing them up:\n",
    "\n",
    "$$\n",
    "\\phi(\\mathbf{x})_k = \\exp\\left(\\lVert \\mathbf{x} - \\mathbf{r}_k \\rVert^2\\right) = \\exp \\left( - \\dfrac{1}{d} \\sum_{i=1}^d (x_i - r_{ki})^2\\right)\n",
    "$$\n",
    "\n",
    "<div class=\"alert alert-danger\">\n",
    "(5 points) Between the two options, which one do you think that would work better?  Justify your answer and replace the `XXX` in the `adaptive_rbfn_logits` function with your choice.  **Note: \"by experiment\" is not a sufficient justification for *this* problem.**\n",
    "</div>"
   ]
  },
  {
   "cell_type": "markdown",
   "metadata": {},
   "source": [
    "**Answer**: The use of the average of the squares works better as it prevents an outlier basis such as as a very slanted or \"unorthodox\" digit from skewing the results for $\\phi(\\textbf{x})_{k}$. We can measure how on average an input is close to a basis digit compared to how close in total an input is close to a basis digit which may be susceptible to skewing because of outlier entries in either the input vector or the basis vectors. Instead, the average will better capture relationships between the input vector and the basis vectors meaning it will work better. This observation is backed up empirically as the trained models below perform better with the average."
   ]
  },
  {
   "cell_type": "code",
   "execution_count": 4,
   "metadata": {
    "collapsed": true
   },
   "outputs": [],
   "source": [
    "def adaptive_rbfn_logits(x, params):\n",
    "    '''\n",
    "    x: numpy array of training data, with shape (n_samples, 28, 28)\n",
    "    params: a dictionary with \"bases\", \"w\" and \"b\" as keys.\n",
    "    '''\n",
    "    bases = params['bases']\n",
    "    w = params['w']\n",
    "    b = params['b']\n",
    "    x = x.reshape((x.shape[0], -1))\n",
    "    \n",
    "    #### BEGINNING OF IMPLEMENTATION OF REPLACEMENT\n",
    "    phi = np.exp(-((x[:, None, :] - bases[None, :, :]) ** 2).mean(axis=-1)) # (n_samples, n_bases)\n",
    "    #### END OF IMPLEMENTATION OF REPLACEMENT\n",
    "    \n",
    "    #### BEGINNING OF PREVIOUS CODE FOR REFERENCE PURPOSES\n",
    "    ## phi = np.exp(-((x[:, None, :] - bases[None, :, :]) ** 2).XXX(axis=-1)) # (n_samples, n_bases)\n",
    "    #### END OF PREVIOUS CODE FOR REFERENCE PURPOSES\n",
    "    \n",
    "    logits = np.dot(phi, w) + b\n",
    "    \n",
    "    return logits"
   ]
  },
  {
   "cell_type": "markdown",
   "metadata": {},
   "source": [
    "The function above applies a linear transformation on $\\phi(\\mathbf{x})$ to get the *logits* for each class.  The logits can be considered as \"scores\"; the higher the logit, the more likely the class.  In fact, the probability of a certain class can be directly computed by applying a *softmax* on the logits.\n",
    "\n",
    "Recall that the multiclass logistic regression minimizes the negative log-likelihood (sometimes also called *cross entropy*) of the entire dataset:\n",
    "\n",
    "$$\n",
    "J(M, D_\\text{tra}) = -\\dfrac{1}{N} \\sum_{(\\mathbf{x}, y^*) \\in D_\\text{tra}}\n",
    "\\log \\dfrac{\\exp \\mathbf{w}^T_{y^*} \\tilde{\\mathbf{x}}}{\\sum_y \\exp \\mathbf{w}^T_y \\tilde{\\mathbf{x}}}\n",
    "$$\n",
    "\n",
    "<div class=\"alert alert-danger\">\n",
    "(5 points) The following function implements the cost function in a naive, numerically unstable way.  Please rewrite the indicated block **in at most 2 lines** so that it becomes numerically stable.  You will only get 2 points if your replacement is correct and more than 2 lines.\n",
    "</div>\n",
    "\n",
    "<div class=\"alert alert-info\">\n",
    "**Hint:** Recall Problem 2 in Homework 3, then look at `autograd.scipy.misc`, then see how we select elements efficiently (which is usually called [fancy](https://docs.scipy.org/doc/numpy/user/basics.indexing.html#index-arrays) [indexing](https://docs.scipy.org/doc/numpy/user/basics.indexing.html#indexing-multi-dimensional-arrays)). <br/>\n",
    "\n",
    "Other autodifferentiation frameworks also have their numerically stable log-softmax functions.\n",
    "</div>"
   ]
  },
  {
   "cell_type": "code",
   "execution_count": 5,
   "metadata": {
    "collapsed": true
   },
   "outputs": [],
   "source": [
    "def adaptive_rbfn_cost(param_buf, x, y, unpack):\n",
    "    '''\n",
    "    The cost function for ARBFN.\n",
    "    x: numpy array of training data, with shape (n_samples, 28, 28)\n",
    "    y: numpy array of training labels, with shape (n_samples,).  All elements are integers.\n",
    "    param_buf: the *flattened* numpy array containing all the parameters.\n",
    "    unpack: a function that recovers the flattened parameters into the original list/dict.\n",
    "    \n",
    "    param_buf and unpack are quite a nuisance as they are introduced by autograd.\n",
    "    A more detailed explanation comes with the \"autograd.misc.flatten\" function below.\n",
    "    '''\n",
    "    params = unpack(param_buf)\n",
    "    logits = adaptive_rbfn_logits(x, params)\n",
    "    \n",
    "    #### BEGINNING OF IMPLEMENTATION OF REPLACEMENT\n",
    "    log_probs = logits.ravel()[[i*logits.shape[1]+j for i, j in enumerate(y)]] - autograd.scipy.misc.logsumexp(logits, axis=1)\n",
    "    \n",
    "    ## -- this softmax is used to be with its corresponding cost function that can be\n",
    "    ## -- seen below, I kept this here for reference purposes\n",
    "    ## (1) softmax = logits - autograd.scipy.misc.logsumexp(logits, axis=1, keepdims=True)\n",
    "    ## -- the cost below is second take at indexing, I found an even more optimized way to\n",
    "    ## -- make this computation above (omitting some uneccessary subtractions)\n",
    "    ## (1) cost = -(softmax.ravel()[[i*softmax.shape[1]+j for i, j in enumerate(y)]].mean())\n",
    "    \n",
    "    ## -- the cost below is first take at indexing, this proved to be considerably slow\n",
    "    ## -- so it was omitted from the implementation and optimized above, it can be used\n",
    "    ## -- with the softmax given in (1)\n",
    "    ## (2) cost = -(softmax[np.arange(x.shape[0]), y].mean())\n",
    "    \n",
    "    cost = -log_probs.mean()\n",
    "    #### END OF IMPLEMENTATION OF REPLACEMENT\n",
    "    \n",
    "    #### BEGINNING OF CODE TO BE REPLACED\n",
    "    ## exp_logits = np.exp(logits)\n",
    "    ## softmax = exp_logits / exp_logits.sum(axis=1, keepdims=True)\n",
    "    ## log_probs = np.log(softmax[np.arange(x.shape[0]), y])\n",
    "    ## cost = -log_probs.mean()\n",
    "    #### END OF CODE TO BE REPLACED\n",
    "    \n",
    "    return cost"
   ]
  },
  {
   "cell_type": "code",
   "execution_count": 6,
   "metadata": {
    "collapsed": true
   },
   "outputs": [],
   "source": [
    "# This statement returns a function that has the same signature as adaptive_rbfn_cost(),\n",
    "# but returns both the cost and the gradient.\n",
    "adaptive_rbfn_cost_and_grad = value_and_grad(adaptive_rbfn_cost)"
   ]
  },
  {
   "cell_type": "code",
   "execution_count": 7,
   "metadata": {
    "collapsed": true
   },
   "outputs": [],
   "source": [
    "def train_full_batch(cost_and_grad, initial_params, train_data, train_labels, use_scipy=True, learning_rate=1, max_iter=30000):\n",
    "    # NOTE: We should have early stopping here, but it is left for you to implement in the next problem (not here).\n",
    "    # Autograd.misc.flatten() is a tricky function that allows us to compute the gradients to all parameters\n",
    "    # with a single grad() call.\n",
    "    # It takes in a list or dictionary, and returns two objects:\n",
    "    # (1) a flattened, i.e. 1D, numpy array which contains all the parameters, and\n",
    "    # (2) an unflatten function, which will recover the original list/dictionary structure from the flattened array.\n",
    "    # Collapsing all the parameters into a single array would also allow us to use scipy's optimize function which\n",
    "    # only takes one input variable.\n",
    "    param_buf, unpack = autograd.misc.flatten(initial_params)\n",
    "\n",
    "    if not use_scipy:\n",
    "        for i in range(max_iter):\n",
    "            loss, dparam_buf = cost_and_grad(param_buf, train_data, train_labels, unpack)\n",
    "            param_buf -= learning_rate * dparam_buf\n",
    "            if i % 100 == 0:\n",
    "                print(i, loss)\n",
    "    else:\n",
    "        model = scipy.optimize.minimize(cost_and_grad, param_buf, (train_data, train_labels, unpack), jac=True, method='CG')\n",
    "        print(model)\n",
    "        param_buf = model.x\n",
    "    \n",
    "    return unpack(param_buf)"
   ]
  },
  {
   "cell_type": "markdown",
   "metadata": {},
   "source": [
    "Now that we have defined a function for training an adaptive RBFN, let's see how a small model works on a small dataset (100 training samples, 10 test samples)."
   ]
  },
  {
   "cell_type": "code",
   "execution_count": 8,
   "metadata": {
    "collapsed": true
   },
   "outputs": [],
   "source": [
    "train_size = 100\n",
    "test_size = 10\n",
    "n_bases = 10\n",
    "n_features = np.prod(train_data.shape[1:])\n",
    "\n",
    "params = {}\n",
    "params['bases'] = np.random.rand(n_bases, n_features)\n",
    "params['w'] = np.random.randn(n_bases, 10) * 0.1\n",
    "params['b'] = np.zeros(10)"
   ]
  },
  {
   "cell_type": "code",
   "execution_count": 9,
   "metadata": {},
   "outputs": [
    {
     "name": "stdout",
     "output_type": "stream",
     "text": [
      "0 2.331095497814928\n",
      "100 2.2623888489187562\n",
      "200 2.261649766087085\n",
      "300 2.2608647401008137\n",
      "400 2.2600032503226957\n",
      "500 2.2590298240994784\n",
      "600 2.257901701492925\n",
      "700 2.256565980954817\n",
      "800 2.254956067730879\n",
      "900 2.252987232605562\n",
      "1000 2.250551092399784\n",
      "1100 2.2475088701838404\n",
      "1200 2.243683425524489\n",
      "1300 2.238850333321621\n",
      "1400 2.232728838017366\n",
      "1500 2.2249744509425953\n",
      "1600 2.215176410346268\n",
      "1700 2.202865158928378\n",
      "1800 2.187536953154281\n",
      "1900 2.168703342475391\n",
      "2000 2.1459698635612914\n",
      "2100 2.119137403570674\n",
      "2200 2.0883002015621357\n",
      "2300 2.0538941931771566\n",
      "2400 2.0166488870051613\n",
      "2500 1.9774346199258042\n",
      "2600 1.937060816979696\n",
      "2700 1.8961158423080386\n",
      "2800 1.8549083984756667\n",
      "2900 1.8135052889678613\n",
      "3000 1.7718192076942372\n",
      "3100 1.7297013883153192\n",
      "3200 1.6870154020154045\n",
      "3300 1.6436867404810545\n",
      "3400 1.5997309498031496\n",
      "3500 1.5552641336495268\n",
      "3600 1.5104983829477883\n",
      "3700 1.4657240651309371\n",
      "3800 1.4212817915685059\n",
      "3900 1.3775286390101025\n",
      "4000 1.3348044947336473\n",
      "4100 1.2934041612719889\n",
      "4200 1.2535589911704301\n",
      "4300 1.2154291419420622\n",
      "4400 1.1791051379173303\n",
      "4500 1.1446160109783858\n",
      "4600 1.111940974989743\n",
      "4700 1.0810220533631298\n",
      "4800 1.0517758886678816\n",
      "4900 1.0241037727775022\n",
      "5000 0.9978995638118296\n",
      "5100 0.9730555569401232\n",
      "5200 0.94946658262735\n",
      "5300 0.9270326775005155\n",
      "5400 0.9056606657874601\n",
      "5500 0.8852649445335237\n",
      "5600 0.8657677092587295\n",
      "5700 0.8470988021103352\n",
      "5800 0.8291953178458512\n",
      "5900 0.812001065695746\n",
      "6000 0.7954659566846936\n",
      "6100 0.7795453648703825\n",
      "6200 0.7641994955708598\n",
      "6300 0.7493927825407275\n",
      "6400 0.7350933280459412\n",
      "6500 0.721272393986302\n",
      "6600 0.7079039479848314\n",
      "6700 0.6949642652642402\n",
      "6800 0.6824315848694167\n",
      "6900 0.6702858171785588\n",
      "7000 0.6585082985450866\n",
      "7100 0.647081588235253\n",
      "7200 0.6359893024987032\n",
      "7300 0.6252159805659057\n",
      "7400 0.614746977546232\n",
      "7500 0.6045683795453201\n",
      "7600 0.594666936776259\n",
      "7700 0.5850300109579873\n",
      "7800 0.5756455338355064\n",
      "7900 0.5665019741878514\n",
      "8000 0.557588311187568\n",
      "8100 0.5488940124240159\n",
      "8200 0.540409015293461\n",
      "8300 0.5321237107885073\n",
      "8400 0.524028928989144\n",
      "8500 0.5161159257716497\n",
      "8600 0.5083763704156767\n",
      "8700 0.5008023339108951\n",
      "8800 0.4933862778495453\n",
      "8900 0.48612104384693194\n",
      "9000 0.47899984346439645\n",
      "9100 0.47201624862413766\n",
      "9200 0.4651641825070209\n",
      "9300 0.4584379109171936\n",
      "9400 0.45183203408407313\n",
      "9500 0.44534147885573705\n",
      "9600 0.43896149121997013\n",
      "9700 0.43268762907189084\n",
      "9800 0.4265157551314559\n",
      "9900 0.4204420299012643\n",
      "10000 0.41446290454569334\n",
      "10100 0.4085751135671059\n",
      "10200 0.4027756671540189\n",
      "10300 0.39706184307999337\n",
      "10400 0.39143117804060784\n",
      "10500 0.3858814583291446\n",
      "10600 0.38041070976924707\n",
      "10700 0.3750171868443605\n",
      "10800 0.3696993609886263\n",
      "10900 0.3644559080312692\n",
      "11000 0.3592856948154997\n",
      "11100 0.3541877650425\n",
      "11200 0.3491613244200742\n",
      "11300 0.3442057252229285\n",
      "11400 0.33932045039617903\n",
      "11500 0.33450509735460243\n",
      "11600 0.3297593616464873\n",
      "11700 0.3250830206620608\n",
      "11800 0.32047591757192007\n",
      "11900 0.3159379456805471\n",
      "12000 0.31146903337388876\n",
      "12100 0.3070691298285283\n",
      "12200 0.3027381916336832\n",
      "12300 0.2984761704569513\n",
      "12400 0.294283001861266\n",
      "12500 0.29015859535490146\n",
      "12600 0.286102825729645\n",
      "12700 0.28211552571537296\n",
      "12800 0.2781964799532087\n",
      "12900 0.27434542026498265\n",
      "13000 0.2705620221745548\n",
      "13100 0.26684590261721136\n",
      "13200 0.26319661875717887\n",
      "13300 0.25961366782048784\n",
      "13400 0.25609648784103906\n",
      "13500 0.25264445921166784\n",
      "13600 0.24925690692909408\n",
      "13700 0.24593310342158042\n",
      "13800 0.24267227185057877\n",
      "13900 0.23947358978221864\n",
      "14000 0.2363361931307838\n",
      "14100 0.2332591802839386\n",
      "14200 0.23024161632800663\n",
      "14300 0.227282537300712\n",
      "14400 0.22438095440815803\n",
      "14500 0.22153585815214846\n",
      "14600 0.21874622232301666\n",
      "14700 0.21601100782175742\n",
      "14800 0.2133291662832703\n",
      "14900 0.21069964347987125\n",
      "15000 0.20812138249080014\n",
      "15100 0.2055933266292608\n",
      "15200 0.20311442212354106\n",
      "15300 0.20068362055300704\n",
      "15400 0.19829988104330243\n",
      "15500 0.1959621722279174\n",
      "15600 0.19366947398553702\n",
      "15700 0.19142077896425316\n",
      "15800 0.18921509390492086\n",
      "15900 0.18705144077671268\n",
      "16000 0.18492885773834455\n",
      "16100 0.18284639993856333\n",
      "16200 0.18080314016936272\n",
      "16300 0.17879816938507978\n",
      "16400 0.17683059710005422\n",
      "16500 0.1748995516769551\n",
      "16600 0.1730041805172231\n",
      "16700 0.17114365016436814\n",
      "16800 0.1693171463301255\n",
      "16900 0.16752387385272877\n",
      "17000 0.165763056595817\n",
      "17100 0.164033937295777\n",
      "17200 0.16233577736461538\n",
      "17300 0.160667856654802\n",
      "17400 0.159029473191893\n",
      "17500 0.15741994288015793\n",
      "17600 0.1558385991858865\n",
      "17700 0.1542847928025477\n",
      "17800 0.1527578913015073\n",
      "17900 0.15125727877158596\n",
      "18000 0.14978235545035118\n",
      "18100 0.14833253734968568\n",
      "18200 0.14690725587785544\n",
      "18300 0.1455059574600139\n",
      "18400 0.14412810315882368\n",
      "18500 0.14277316829664038\n",
      "18600 0.1414406420805034\n",
      "18700 0.14013002723099072\n",
      "18800 0.13884083961583088\n",
      "18900 0.13757260788902392\n",
      "19000 0.13632487313609\n",
      "19100 0.1350971885259564\n",
      "19200 0.13388911896988998\n",
      "19300 0.1327002407877964\n",
      "19400 0.13153014138213215\n",
      "19500 0.13037841891960608\n",
      "19600 0.12924468202079126\n",
      "19700 0.12812854945771665\n",
      "19800 0.12702964985946552\n",
      "19900 0.12594762142576854\n",
      "20000 0.1248821116485497\n",
      "20100 0.12383277704135338\n",
      "20200 0.1227992828765622\n",
      "20300 0.12178130293029014\n",
      "20400 0.12077851923482473\n",
      "20500 0.11979062183847726\n",
      "20600 0.11881730857268774\n",
      "20700 0.11785828482622493\n",
      "20800 0.11691326332631637\n",
      "20900 0.1159819639265335\n",
      "21000 0.11506411340126248\n",
      "21100 0.11415944524657853\n",
      "21200 0.11326769948734956\n",
      "21300 0.11238862249039201\n",
      "21400 0.11152196678349782\n",
      "21500 0.1106674908801633\n",
      "21600 0.10982495910984076\n",
      "21700 0.10899414145354584\n",
      "21800 0.10817481338465186\n",
      "21900 0.10736675571470423\n",
      "22000 0.10656975444409719\n",
      "22100 0.10578360061745296\n",
      "22200 0.10500809018354967\n",
      "22300 0.10424302385965097\n",
      "22400 0.10348820700008651\n",
      "22500 0.10274344946894783\n",
      "22600 0.10200856551675792\n",
      "22700 0.10128337366098286\n",
      "22800 0.10056769657025519\n",
      "22900 0.09986136095218616\n",
      "23000 0.09916419744464214\n",
      "23100 0.0984760405103729\n",
      "23200 0.0977967283348728\n",
      "23300 0.09712610272737038\n",
      "23400 0.09646400902483744\n",
      "23500 0.0958102959989175\n",
      "23600 0.0951648157656734\n",
      "23700 0.09452742369805932\n",
      "23800 0.09389797834102807\n",
      "23900 0.09327634132917945\n",
      "24000 0.09266237730687038\n",
      "24100 0.09205595385070023\n",
      "24200 0.09145694139429425\n",
      "24300 0.0908652131553071\n",
      "24400 0.09028064506457366\n",
      "24500 0.08970311569733531\n",
      "24600 0.08913250620647364\n",
      "24700 0.08856870025768444\n",
      "24800 0.08801158396653047\n",
      "24900 0.08746104583730802\n",
      "25000 0.08691697670367154\n",
      "25100 0.0863792696709578\n",
      "25200 0.08584782006015321\n",
      "25300 0.08532252535345336\n",
      "25400 0.08480328514136307\n",
      "25500 0.08429000107128629\n",
      "25600 0.08378257679756022\n",
      "25700 0.08328091793288543\n",
      "25800 0.08278493200111042\n",
      "25900 0.08229452839132573\n",
      "26000 0.08180961831322747\n",
      "26100 0.0813301147537096\n",
      "26200 0.08085593243464817\n",
      "26300 0.08038698777183892\n",
      "26400 0.07992319883505317\n",
      "26500 0.07946448530917752\n",
      "26600 0.07901076845640442\n",
      "26700 0.0785619710794402\n",
      "26800 0.07811801748570157\n",
      "26900 0.07767883345246751\n",
      "27000 0.07724434619296178\n",
      "27100 0.07681448432333376\n",
      "27200 0.07638917783051397\n",
      "27300 0.07596835804091555\n",
      "27400 0.07555195758995864\n",
      "27500 0.07513991039239225\n",
      "27600 0.07473215161338864\n",
      "27700 0.07432861764039073\n",
      "27800 0.07392924605568715\n",
      "27900 0.07353397560969605\n",
      "28000 0.07314274619493467\n",
      "28100 0.07275549882065714\n",
      "28200 0.07237217558814014\n",
      "28300 0.07199271966659664\n",
      "28400 0.07161707526970179\n",
      "28500 0.07124518763271209\n",
      "28600 0.0708770029901605\n",
      "28700 0.07051246855411267\n",
      "28800 0.07015153249296714\n",
      "28900 0.06979414391078441\n",
      "29000 0.06944025282713064\n",
      "29100 0.06908981015742\n",
      "29200 0.06874276769374371\n",
      "29300 0.06839907808617122\n",
      "29400 0.06805869482450908\n",
      "29500 0.06772157222050867\n",
      "29600 0.06738766539050534\n",
      "29700 0.06705693023848162\n",
      "29800 0.0667293234395398\n",
      "29900 0.0664048024237745\n",
      "CPU times: user 16min 31s, sys: 1min 32s, total: 18min 3s\n",
      "Wall time: 18min 3s\n"
     ]
    }
   ],
   "source": [
    "%%time\n",
    "new_params = train_full_batch(adaptive_rbfn_cost_and_grad, params, train_data[:train_size], train_labels[:train_size], False)"
   ]
  },
  {
   "cell_type": "code",
   "execution_count": 10,
   "metadata": {},
   "outputs": [
    {
     "name": "stdout",
     "output_type": "stream",
     "text": [
      "8 / 10\n"
     ]
    }
   ],
   "source": [
    "y_hat = adaptive_rbfn_logits(test_data[:test_size], new_params).argmax(axis=1)\n",
    "print(np.equal(y_hat, test_labels[:test_size]).sum(), '/', test_size)"
   ]
  },
  {
   "cell_type": "markdown",
   "metadata": {},
   "source": [
    "When the gradient is computed from the entire training set, we usually call it *(full) batch gradient descent*.  However, batch gradient descent is time- and memory-consuming, in the sense that it has to go through all the training examples and average all the gradients for a *single* step, and it quickly becomes impractical if the dataset or the model becomes large.\n",
    "\n",
    "The solution is *not* to see all the examples for a single gradient step.  Instead, for each step, we compute and average the gradients for only a small subset (commonly called a *minibatch*) of examples.  This is called *minibatch gradient descent*, or *stochastic gradient descent* (SGD), though the latter refer to the special case where the minibatch only contains a single example in some literatures.\n",
    "\n",
    "The intuition behind SGD is that the minibatch gradient is a noisy but unbiased estimate of the true gradient.  This of course has pros and cons.\n",
    "\n",
    "The main downside is that, due to the inherent noise of minibatch gradient, SGD no longer guarantees to converge to a local minimum, and sometimes it will fluctuates or even overshoot itself.  You will have to use a significantly smaller, and sometimes decaying, learning rate.  Very often, you would see a curve of training loss like [this](http://cs231n.github.io/neural-networks-3/#loss):\n",
    "\n",
    "![](http://cs231n.github.io/assets/nn3/loss.jpeg)\n",
    "\n",
    "The obvious upside is that estimating the gradient using minibatch is much more efficient than computing the true gradient across all training examples.  Or, after we iterate over the entire training set, we had already performed a lot of gradient steps, which is not necessarily a bad thing.  In fact, the size of a minibatch itself can be considered as a hyperparameter to fiddle with ~~although in practice few people do that~~.\n",
    "\n",
    "In practice, SGD often works good enough, especially for large models (such as neural networks) on large datasets.\n",
    "\n",
    "See [Leon Bottou's SGD Tricks](https://cilvr.cs.nyu.edu/diglib/lsml/bottou-sgd-tricks-2012.pdf) if you are interested in the details of SGD.\n",
    "\n",
    "<div class=\"alert alert-danger\">\n",
    "(15 points) Implement SGD, and train your ARBFN model with 20 bases (or any number you like) on the whole dataset, with the size of minibatch being 10.  <br/>\n",
    "Plot the training loss and validation accuracy, and report the test accuracy.  **Your implementation should have a test accuracy above 80% to be considered correct.** <br/>\n",
    "Do the same for minibatch size 100 and answer this question in the cell below: *What do you observe from the learning curve and training time of different minibatch sizes?*  <br/>\n",
    "\n",
    "You are free to define your own `train_sgd` function.  **Please do not use `autograd.misc.optimizers` package.**\n",
    "</div>\n",
    "\n",
    "<div class=\"alert alert-info\">\n",
    "**Hint:** To save your time figuring out the complete workflow of SGD, here is how we usually do it.\n",
    "<ol>\n",
    "    <li> Split the training set into a validation set and another smaller training set. </li>\n",
    "    <li> Shuffle the (rest of the) training set.  Of course, you can shuffle the indices rather than the actual items. </li>\n",
    "    <li> Divide the training set into equally-sized minibatches.  The last batch may not have the same size as the others, and it's up to you how to deal with it (usually it doesn't matter too much). </li>\n",
    "    <li> Iterate over each minibatch, compute the gradient, and update the parameters. </li>\n",
    "    <li> After going through all the minibatches (we call that *an epoch*), evaluate the model on validation set, and decide whether to early stop.  Since SGD will fluctuate a lot, you may want to leave it run for a little while longer even if the validation error does not seem to decrease.  </li>\n",
    "    <li> Repeat 2-5 until done. </li>\n",
    "</ol>\n",
    "\n",
    "Optionally, you can also decay the learning rate after each minibatch or each epoch.\n",
    "</div>\n",
    "\n",
    "<div class=\"alert alert-warning\">\n",
    "**Warning:** This assignment would take potentially hours to train a model to \"good performance\" on an average laptop.  In practice, it is very common for neural networks to take hours, days or even weeks to train, even if powered by GPUs which are good at matrix multiplication and elementwise computation.\n",
    "</div>"
   ]
  },
  {
   "cell_type": "markdown",
   "metadata": {},
   "source": [
    "**Answer:** For my run when the minibatch size is increased from $10$ to $100$ then training time increases. This implies that increasing batch sizes in general should increase the training time. Conversely, increasing the batch size from $10$ to $100$ does not change the validation accuracy by a lot but has led to an increase of the testing accuracy from 0.9042 to 0.9177. In both cases the learning curves look the same for both minibatch sizes but the validation accuracy curve is much smoother when the minibatch size is $100$. Minibatch size $10$ takes 134 epochs until early stopping while minibatch size $100$ takes 245 epochs until early stopping."
   ]
  },
  {
   "cell_type": "code",
   "execution_count": 11,
   "metadata": {
    "collapsed": true,
    "scrolled": false
   },
   "outputs": [],
   "source": [
    "# YOUR CODE HERE\n",
    "\n",
    "# import shuffle for shuffling multiple datasets\n",
    "from sklearn.utils import shuffle\n",
    "\n",
    "# define training set size and validation set size\n",
    "# we use 50,000 data points for training\n",
    "train_size = 50000\n",
    "# we use 10,000 data points for validation\n",
    "val_size = 10000\n",
    "\n",
    "# partition the sets for use\n",
    "X_train, X_val = train_data[:train_size], train_data[-val_size:]\n",
    "y_train, y_val = train_labels[:train_size], train_labels[-val_size:]\n",
    "\n",
    "# the number of bases is 20 (as specified above)\n",
    "n_bases = 20\n",
    "n_features = np.prod(X_train.shape[1:])\n",
    "\n",
    "# create params (parameters)\n",
    "params = {}\n",
    "params['bases'] = np.random.rand(n_bases, n_features)\n",
    "params['w'] = np.random.randn(n_bases, 10) * 0.1\n",
    "params['b'] = np.zeros(10)\n",
    "\n",
    "# get both cost and gradient of adaptive_rbfn_cost\n",
    "adaptive_rbfn_cost_and_grad = value_and_grad(adaptive_rbfn_cost)\n",
    "\n",
    "# train_sgd function, accepts as input:\n",
    "#   cost_and_grad    -- autograd computed cost and grad function\n",
    "#   initial_params   -- the initial parameters, i.e. the bases, w and b\n",
    "#   X_train          -- the data for the training set\n",
    "#   y_train          -- the labels for the training set\n",
    "#   X_val            -- the data for the validation set\n",
    "#   y_val            -- the labels for the validation set\n",
    "#   size_minibatches -- the size of minibatches to be used, default: 10\n",
    "#   learning_rate    -- the learning rate to update the weight matrix, default: 1\n",
    "#   max_iter         -- the maximum number of iterations to consider, default : 2000\n",
    "#\n",
    "def train_sgd(cost_and_grad, initial_params, X_train, y_train, X_val, y_val, size_minibatches=10, learning_rate=1, max_iter=2000):\n",
    "    \n",
    "    param_buf, unpack = autograd.misc.flatten(initial_params)\n",
    "    \n",
    "    # history arrays to be used to plot values\n",
    "    training_loss_history = []\n",
    "    valid_accuracy_history = []\n",
    "    num_epochs = []\n",
    "    \n",
    "    # previous validation accruacy value to be used for early stopping\n",
    "    prev_valid_accuracy = 0\n",
    "    # patience number for early stopping, tracks number of iterations the validation accuracy stayed the same for\n",
    "    patience = 0\n",
    "    \n",
    "    # the number of minibatches to be used\n",
    "    num_minibatches = int(X_train.shape[0] / size_minibatches)\n",
    "    \n",
    "    # we go over max_iter number of epochs\n",
    "    for i in range(max_iter):\n",
    "        \n",
    "        # shuffle the sets\n",
    "        X_train, y_train = shuffle(X_train, y_train)\n",
    "        # split the sets into minibatches\n",
    "        X_train_split, y_train_split = np.array_split(X_train, num_minibatches), np.array_split(y_train, num_minibatches)\n",
    "        \n",
    "        # value to store estimate of the training loss for current epoch\n",
    "        curr_training_loss = 0\n",
    "        \n",
    "        # iterate over each minibatch and update parameters loss and param_buf\n",
    "        for minibatch in range(num_minibatches):\n",
    "            loss, dparam_buf = cost_and_grad(param_buf, X_train_split[minibatch], y_train_split[minibatch], unpack)\n",
    "            curr_training_loss += loss\n",
    "            param_buf -= learning_rate * dparam_buf\n",
    "        \n",
    "        # estimate overall training_loss by taking average over the batches\n",
    "        curr_training_loss /= num_minibatches\n",
    "        \n",
    "        # use current epoch trained model on validation set\n",
    "        y_hat = adaptive_rbfn_logits(X_val, unpack(param_buf)).argmax(axis=1)\n",
    "        \n",
    "        # if first iteration simply update prev_valid_accuracy, else do early stopping\n",
    "        if i == 0:\n",
    "            prev_valid_accuracy = np.equal(y_hat, y_val).sum() / val_size\n",
    "        else:\n",
    "            # compute new validation accuracy\n",
    "            new_valid_accuracy = np.equal(y_hat, y_val).sum() / val_size\n",
    "            # if better than previous then update previous and reset patience\n",
    "            if new_valid_accuracy > prev_valid_accuracy:\n",
    "                prev_valid_accuracy = new_valid_accuracy\n",
    "                patience = 0\n",
    "            else:\n",
    "                # if it has been too many iterations (i.e. 20) exit loop, else update patience\n",
    "                if (patience > 20):\n",
    "                    print(\"Epoch #\", i, \"-- Training loss:\", curr_training_loss, \"-- Validation accuracy:\", prev_valid_accuracy)\n",
    "                    break\n",
    "                else:\n",
    "                    patience += 1\n",
    "                    \n",
    "        # debugging statement below, uncomment to observe the results of each epoch           \n",
    "        # print(\"Epoch #\", i, \"-- Training loss:\", curr_training_loss, \"-- Validation accuracy:\", prev_valid_accuracy)\n",
    "        \n",
    "        # update history arrays\n",
    "        training_loss_history.append(curr_training_loss)\n",
    "        valid_accuracy_history.append(prev_valid_accuracy)\n",
    "        num_epochs.append(i)\n",
    "        \n",
    "    # return the results as a tuple of the learned model and the history arrays        \n",
    "    return (unpack(param_buf), training_loss_history, valid_accuracy_history, num_epochs)"
   ]
  },
  {
   "cell_type": "code",
   "execution_count": 12,
   "metadata": {},
   "outputs": [
    {
     "name": "stdout",
     "output_type": "stream",
     "text": [
      "Epoch # 134 -- Training loss: 0.29656937084429325 -- Validation accuracy: 0.9272\n",
      "CPU times: user 1h 49min 12s, sys: 2min 31s, total: 1h 51min 44s\n",
      "Wall time: 1h 51min 44s\n"
     ]
    }
   ],
   "source": [
    "%%time\n",
    "results_1 = train_sgd(adaptive_rbfn_cost_and_grad, params, X_train, y_train, X_val, y_val)"
   ]
  },
  {
   "cell_type": "code",
   "execution_count": 13,
   "metadata": {},
   "outputs": [
    {
     "data": {
      "image/png": "[encoded data removed]",
      "text/plain": [
       "<Figure size 432x288 with 2 Axes>"
      ]
     },
     "metadata": {},
     "output_type": "display_data"
    }
   ],
   "source": [
    "# plot the results from results_1 (minibatch size = 10)\n",
    "fig, ax1 = plot.subplots()\n",
    "ax1.plot(results_1[1], 'b-', label='Training Loss')\n",
    "ax1.set_xlabel('Epochs')\n",
    "ax1.set_ylabel('Training Loss', color='b')\n",
    "ax1.tick_params('y', colors='b')\n",
    "ax2 = ax1.twinx()\n",
    "ax2.plot(results_1[2], 'r-', label='Validation Accuracy')\n",
    "ax2.set_ylabel('Validation Accuracy', color='r')\n",
    "ax2.tick_params('y', colors='r')\n",
    "fig.tight_layout()"
   ]
  },
  {
   "cell_type": "code",
   "execution_count": 14,
   "metadata": {},
   "outputs": [
    {
     "name": "stdout",
     "output_type": "stream",
     "text": [
      "The test accuracy when minibatch size = 10 is: 0.9042\n"
     ]
    }
   ],
   "source": [
    "# report the test accuracy for results_1 (minibatch size = 10)\n",
    "param_buf, unpack = autograd.misc.flatten(results_1[0])\n",
    "y_hat = adaptive_rbfn_logits(test_data, unpack(param_buf)).argmax(axis=1)\n",
    "test_accuracy = np.equal(y_hat, test_labels).sum() / (test_labels.shape[0])\n",
    "print(\"The test accuracy when minibatch size = 10 is:\", test_accuracy)"
   ]
  },
  {
   "cell_type": "code",
   "execution_count": 15,
   "metadata": {},
   "outputs": [
    {
     "name": "stdout",
     "output_type": "stream",
     "text": [
      "Epoch # 245 -- Training loss: 0.30006747027315717 -- Validation accuracy: 0.923\n",
      "CPU times: user 2h 17min 33s, sys: 15min 35s, total: 2h 33min 8s\n",
      "Wall time: 4h 40min 39s\n"
     ]
    }
   ],
   "source": [
    "%%time\n",
    "results_2 = train_sgd(adaptive_rbfn_cost_and_grad, params, X_train, y_train, X_val, y_val, 100)"
   ]
  },
  {
   "cell_type": "code",
   "execution_count": 16,
   "metadata": {},
   "outputs": [
    {
     "data": {
      "image/png": "[encoded data removed]",
      "text/plain": [
       "<Figure size 432x288 with 2 Axes>"
      ]
     },
     "metadata": {},
     "output_type": "display_data"
    }
   ],
   "source": [
    "# plot the results from results_2 (minibatch size = 100)\n",
    "fig, ax1 = plot.subplots()\n",
    "ax1.plot(results_2[1], 'b-', label='Training Loss')\n",
    "ax1.set_xlabel('Epochs')\n",
    "ax1.set_ylabel('Training Loss', color='b')\n",
    "ax1.tick_params('y', colors='b')\n",
    "ax2 = ax1.twinx()\n",
    "ax2.plot(results_2[2], 'r-', label='Validation Accuracy')\n",
    "ax2.set_ylabel('Validation Accuracy', color='r')\n",
    "ax2.tick_params('y', colors='r')\n",
    "fig.tight_layout()"
   ]
  },
  {
   "cell_type": "code",
   "execution_count": 17,
   "metadata": {},
   "outputs": [
    {
     "name": "stdout",
     "output_type": "stream",
     "text": [
      "The test accuracy when minibatch size = 100 is: 0.9177\n"
     ]
    }
   ],
   "source": [
    "# report the test accuracy for results_2 (minibatch size = 100)\n",
    "param_buf, unpack = autograd.misc.flatten(results_2[0])\n",
    "y_hat = adaptive_rbfn_logits(test_data, unpack(param_buf)).argmax(axis=1)\n",
    "test_accuracy = np.equal(y_hat, test_labels).sum() / (test_labels.shape[0])\n",
    "print(\"The test accuracy when minibatch size = 100 is:\", test_accuracy)"
   ]
  },
  {
   "cell_type": "markdown",
   "metadata": {},
   "source": [
    "For reference, here is our training loss and validation accuracy curve running for 2000 epochs.  Your training and validation curve does *not* need to look like ours; this is only supposed to give you a rough idea of how the curves would look like.\n",
    "\n",
    "![](curve.png)"
   ]
  },
  {
   "cell_type": "markdown",
   "metadata": {},
   "source": [
    "### Assignment 5: k-NN Classifier (15 points)\n",
    "\n",
    "The second goal is to compare you ARBFN against a k-NN classifier.  For the k-NN classifier, you need to try a couple $k$'s and pick the best one in a programmatic way."
   ]
  },
  {
   "cell_type": "markdown",
   "metadata": {},
   "source": [
    "<div class=\"alert alert-danger\">\n",
    "(15 points) Build a k-NN classifier using `scikit-learn` with $k$'s from 1 to 3, train it on the first 1000 examples of MNIST dataset, and report the accuracy on the full test set. <br/>\n",
    "\n",
    "Would you use the (exact) k-NN classifier you have built for very large dataset (with maybe millions of examples)?  Explain your answer.\n",
    "</div>"
   ]
  },
  {
   "cell_type": "code",
   "execution_count": 18,
   "metadata": {},
   "outputs": [
    {
     "name": "stdout",
     "output_type": "stream",
     "text": [
      "Testing accuracy for knn when k = 1 is:  0.869\n",
      "Testing accuracy for knn when k = 2 is:  0.8496\n",
      "Testing accuracy for knn when k = 3 is:  0.8622\n",
      "The best k for knn is k = 1 with testing accuracy:  0.869\n"
     ]
    }
   ],
   "source": [
    "# YOUR CODE HERE\n",
    "\n",
    "from sklearn.neighbors import KNeighborsClassifier\n",
    "\n",
    "# flatten the training set so that it can work with sklearn\n",
    "X_train, y_train = train_data[:1000].reshape(1000, 28*28), train_labels[:1000]\n",
    "# flatten the testing set so that it can work with sklearn    \n",
    "X_test, y_test = test_data.reshape(test_data.shape[0], 28*28), test_labels\n",
    "\n",
    "# optimal k variable\n",
    "best_k = 1\n",
    "best_score = 0\n",
    "\n",
    "for k in range(1, 4):\n",
    "    # let sklearn pick the best algorithm and use Euclidean distance as distance metric (p = 2)\n",
    "    knn = KNeighborsClassifier(n_neighbors=k, algorithm='auto', p=2)\n",
    "    knn.fit(X_train, y_train)\n",
    "    test_score = knn.score(X_test, y_test)\n",
    "    print(\"Testing accuracy for knn when k =\", k, \"is: \", test_score)\n",
    "    if test_score > best_score:\n",
    "        best_k = k\n",
    "        best_score = test_score\n",
    "\n",
    "print(\"The best k for knn is k =\", best_k, \"with testing accuracy: \", best_score)"
   ]
  },
  {
   "cell_type": "markdown",
   "metadata": {},
   "source": [
    "**Answer:** We see that the best testing accuracy is obtained when $k = 1$ from our k-NN models trained on the first 1000 examples of the MNIST dataset. I would most likely not use the k-NN classifier I have built with $k = 1$ as I except the accuracy of my model to decrease as the amount of testing samples increase. This is because I firstly estimate that we will need a larger $k$ when the number of samples increases due to the increased possibility of obtaining slanted or distorted samples that may be misclassified with only one near neighbor. Secondly, if $1000$ training examples leads to $0.869$ testing accuracy for a test set with $10000$ samples, it is most likely that increasing the test set size will mean that our model will not scale well due to a possibly changing distribution of the samples of the new testing data. However, if the new very large testing set shares similar distributions and samples to our current training and testing sets, then using this model will be appropriate."
   ]
  }
 ],
 "metadata": {
  "kernelspec": {
   "display_name": "Python 3",
   "language": "python",
   "name": "python3"
  },
  "language_info": {
   "codemirror_mode": {
    "name": "ipython",
    "version": 3
   },
   "file_extension": ".py",
   "mimetype": "text/x-python",
   "name": "python",
   "nbconvert_exporter": "python",
   "pygments_lexer": "ipython3",
   "version": "3.6.3"
  }
 },
 "nbformat": 4,
 "nbformat_minor": 2
}
