{
 "cells": [
  {
   "cell_type": "markdown",
   "metadata": {},
   "source": [
    "# CSCI-UA 0473 - Introduction to Machine Learning\n",
    "## Homework 4\n",
    "### Assignment 4 - Adaptive RBFN and Stochastic Gradient Descent (25 Points)"
   ]
  },
  {
   "cell_type": "markdown",
   "metadata": {},
   "source": [
    "The task for this homework is again that of handwritten digit recognition on the MNIST dataset.  **For this time, you will train on the full dataset (that is, 60000 training images plus 10000 test images), rather than a small subset.**\n",
    "\n",
    "Your first goal is to implement an adaptive radial basis function network, and train it with stochastic gradient descent (SGD), while going over a few questions.\n",
    "\n",
    "<div class=\"alert alert-danger\">\n",
    "**Please do not miss any text with red background; they are either questions you need to answer, or directions to implement some functionality.**\n",
    "</div>\n",
    "\n",
    "<div class=\"alert alert-warning\">\n",
    "**Please start this homework early.**  Stochastic gradient descent will take a particularly long time to train.\n",
    "</div>\n",
    "\n",
    "<div class=\"alert alert-warning\">\n",
    "**Please submit a fully-run notebook; not doing so would incur at least 10% penalty problem-wise.**\n",
    "</div>"
   ]
  },
  {
   "cell_type": "code",
   "execution_count": 2,
   "metadata": {},
   "outputs": [
    {
     "ename": "ModuleNotFoundError",
     "evalue": "No module named 'autograd.misc'",
     "output_type": "error",
     "traceback": [
      "\u001b[0;31m---------------------------------------------------------------------------\u001b[0m",
      "\u001b[0;31mModuleNotFoundError\u001b[0m                       Traceback (most recent call last)",
      "\u001b[0;32m<ipython-input-2-d52c8fb87012>\u001b[0m in \u001b[0;36m<module>\u001b[0;34m()\u001b[0m\n\u001b[1;32m      1\u001b[0m \u001b[0;32mimport\u001b[0m \u001b[0mautograd\u001b[0m\u001b[0;34m.\u001b[0m\u001b[0mnumpy\u001b[0m \u001b[0;32mas\u001b[0m \u001b[0mnp\u001b[0m\u001b[0;34m\u001b[0m\u001b[0m\n\u001b[1;32m      2\u001b[0m \u001b[0;32mimport\u001b[0m \u001b[0mautograd\u001b[0m\u001b[0;34m.\u001b[0m\u001b[0mscipy\u001b[0m \u001b[0;32mas\u001b[0m \u001b[0mascipy\u001b[0m\u001b[0;34m\u001b[0m\u001b[0m\n\u001b[0;32m----> 3\u001b[0;31m \u001b[0;32mimport\u001b[0m \u001b[0mautograd\u001b[0m\u001b[0;34m.\u001b[0m\u001b[0mmisc\u001b[0m\u001b[0;34m.\u001b[0m\u001b[0mflatten\u001b[0m\u001b[0;34m\u001b[0m\u001b[0m\n\u001b[0m\u001b[1;32m      4\u001b[0m \u001b[0;32mfrom\u001b[0m \u001b[0mautograd\u001b[0m \u001b[0;32mimport\u001b[0m \u001b[0mvalue_and_grad\u001b[0m\u001b[0;34m\u001b[0m\u001b[0m\n\u001b[1;32m      5\u001b[0m \u001b[0;32mimport\u001b[0m \u001b[0mscipy\u001b[0m\u001b[0;34m.\u001b[0m\u001b[0moptimize\u001b[0m\u001b[0;34m\u001b[0m\u001b[0m\n",
      "\u001b[0;31mModuleNotFoundError\u001b[0m: No module named 'autograd.misc'"
     ]
    }
   ],
   "source": [
    "import autograd.numpy as np\n",
    "import autograd.scipy as ascipy\n",
    "import autograd.misc.flatten\n",
    "from autograd import value_and_grad\n",
    "import scipy.optimize\n",
    "import pickle\n",
    "\n",
    "import matplotlib.pyplot as plot\n",
    "%matplotlib inline"
   ]
  },
  {
   "cell_type": "markdown",
   "metadata": {},
   "source": [
    "## 1. Data"
   ]
  },
  {
   "cell_type": "code",
   "execution_count": 2,
   "metadata": {
    "collapsed": true
   },
   "outputs": [],
   "source": [
    "npz = np.load('mnist.npz')\n",
    "# Labels\n",
    "train_labels = npz['train_labels']\n",
    "test_labels = npz['test_labels']\n",
    "# Data.  We linearly scale the integers into something between 0 and 1.\n",
    "train_data = npz['train_data'] / 255.\n",
    "test_data = npz['test_data'] / 255."
   ]
  },
  {
   "cell_type": "markdown",
   "metadata": {},
   "source": [
    "The shapes and types for each numpy array is:\n",
    "\n",
    "* `train_data`: 60000x28x28 float64 array\n",
    "* `train_labels`: 60000 int64 array\n",
    "* `test_data`: 10000x28x28 float64 array\n",
    "* `test_labels`: 10000 int64 array\n",
    "\n",
    "The digit for i-th training data (`train_data[i]`) is `train_labels[i]`.  The same holds for test data."
   ]
  },
  {
   "cell_type": "code",
   "execution_count": 3,
   "metadata": {},
   "outputs": [
    {
     "data": {
      "text/plain": [
       "Text(0.5,1.05,'Digit 5')"
      ]
     },
     "execution_count": 3,
     "metadata": {},
     "output_type": "execute_result"
    },
    {
     "data": {
      "image/png": "[encoded data removed]",
      "text/plain": [
       "<Figure size 288x288 with 1 Axes>"
      ]
     },
     "metadata": {},
     "output_type": "display_data"
    }
   ],
   "source": [
    "plot.matshow(train_data[0], vmin=0, vmax=1, cmap='gray')\n",
    "# See help(str.format) or https://docs.python.org/3.1/library/string.html#formatspec for usage of the Pythonic formatter\n",
    "# If you are comfortable with C you can also write things like sprintf(): 'Digit %d' % (train_labels[0])\n",
    "plot.title('Digit {}'.format(train_labels[0]))"
   ]
  },
  {
   "cell_type": "markdown",
   "metadata": {},
   "source": [
    "## 2. Model Definition\n",
    "\n",
    "The first thing we need is model definition.  Recall that the Gaussian Radial Basis Function we have learned in the class transforms an arbitrary input vector $\\mathbf{x} \\in \\mathbb{R}^d$ into another vector $\\phi(\\mathbf{x}) \\in \\mathbb{R}^k$ based on a set of bases $\\mathbf{r}_k$:\n",
    "\n",
    "$$\n",
    "\\phi(\\mathbf{x})_k = \\exp\\left(\\lVert \\mathbf{x} - \\mathbf{r}_k \\rVert^2\\right) = \\exp \\left( - \\sum_{i=1}^d (x_i - r_{ki})^2\\right)\n",
    "$$\n",
    "\n",
    "An alternative would be taking an average of the squares instead of summing them up:\n",
    "\n",
    "$$\n",
    "\\phi(\\mathbf{x})_k = \\exp\\left(\\lVert \\mathbf{x} - \\mathbf{r}_k \\rVert^2\\right) = \\exp \\left( - \\dfrac{1}{d} \\sum_{i=1}^d (x_i - r_{ki})^2\\right)\n",
    "$$\n",
    "\n",
    "<div class=\"alert alert-danger\">\n",
    "(5 points) Between the two options, which one do you think that would work better?  Justify your answer and replace the `XXX` in the `adaptive_rbfn_logits` function with your choice.  **Note: \"by experiment\" is not a sufficient justification for *this* problem.**\n",
    "</div>"
   ]
  },
  {
   "cell_type": "markdown",
   "metadata": {},
   "source": [
    "**Double click this sentence**, replace it with *your answer and/or LaTeX equations* (like $a=b+c$) here, then press `Ctrl+Enter`.\n",
    "\n",
    "Averages definitely works better, but why?"
   ]
  },
  {
   "cell_type": "code",
   "execution_count": 4,
   "metadata": {
    "collapsed": true
   },
   "outputs": [],
   "source": [
    "def adaptive_rbfn_logits(x, params):\n",
    "    '''\n",
    "    x: numpy array of training data, with shape (n_samples, 28, 28)\n",
    "    params: a dictionary with \"bases\", \"w\" and \"b\" as keys.\n",
    "    '''\n",
    "    bases = params['bases']\n",
    "    w = params['w']\n",
    "    b = params['b']\n",
    "    x = x.reshape((x.shape[0], -1))\n",
    "    \n",
    "    #### BEGINNING OF IMPLEMENTATION OF REPLACEMENT\n",
    "    phi = np.exp(-((x[:, None, :] - bases[None, :, :]) ** 2).mean(axis=-1)) # (n_samples, n_bases)\n",
    "    #### END OF IMPLEMENTATION OF REPLACEMENT\n",
    "    \n",
    "    #### BEGINNING OF PREVIOUS CODE FOR REFERENCE PURPOSES\n",
    "    ## phi = np.exp(-((x[:, None, :] - bases[None, :, :]) ** 2).XXX(axis=-1)) # (n_samples, n_bases)\n",
    "    #### END OF PREVIOUS CODE FOR REFERENCE PURPOSES\n",
    "    \n",
    "    logits = np.dot(phi, w) + b\n",
    "    \n",
    "    return logits"
   ]
  },
  {
   "cell_type": "markdown",
   "metadata": {},
   "source": [
    "The function above applies a linear transformation on $\\phi(\\mathbf{x})$ to get the *logits* for each class.  The logits can be considered as \"scores\"; the higher the logit, the more likely the class.  In fact, the probability of a certain class can be directly computed by applying a *softmax* on the logits.\n",
    "\n",
    "Recall that the multiclass logistic regression minimizes the negative log-likelihood (sometimes also called *cross entropy*) of the entire dataset:\n",
    "\n",
    "$$\n",
    "J(M, D_\\text{tra}) = -\\dfrac{1}{N} \\sum_{(\\mathbf{x}, y^*) \\in D_\\text{tra}}\n",
    "\\log \\dfrac{\\exp \\mathbf{w}^T_{y^*} \\tilde{\\mathbf{x}}}{\\sum_y \\exp \\mathbf{w}^T_y \\tilde{\\mathbf{x}}}\n",
    "$$\n",
    "\n",
    "<div class=\"alert alert-danger\">\n",
    "(5 points) The following function implements the cost function in a naive, numerically unstable way.  Please rewrite the indicated block **in at most 2 lines** so that it becomes numerically stable.  You will only get 2 points if your replacement is correct and more than 2 lines.\n",
    "</div>\n",
    "\n",
    "<div class=\"alert alert-info\">\n",
    "**Hint:** Recall Problem 2 in Homework 3, then look at `autograd.scipy.misc`, then see how we select elements efficiently (which is usually called [fancy](https://docs.scipy.org/doc/numpy/user/basics.indexing.html#index-arrays) [indexing](https://docs.scipy.org/doc/numpy/user/basics.indexing.html#indexing-multi-dimensional-arrays)). <br/>\n",
    "\n",
    "Other autodifferentiation frameworks also have their numerically stable log-softmax functions.\n",
    "</div>"
   ]
  },
  {
   "cell_type": "code",
   "execution_count": 5,
   "metadata": {
    "collapsed": true
   },
   "outputs": [],
   "source": [
    "def adaptive_rbfn_cost(param_buf, x, y, unpack):\n",
    "    '''\n",
    "    The cost function for ARBFN.\n",
    "    x: numpy array of training data, with shape (n_samples, 28, 28)\n",
    "    y: numpy array of training labels, with shape (n_samples,).  All elements are integers.\n",
    "    param_buf: the *flattened* numpy array containing all the parameters.\n",
    "    unpack: a function that recovers the flattened parameters into the original list/dict.\n",
    "    \n",
    "    param_buf and unpack are quite a nuisance as they are introduced by autograd.\n",
    "    A more detailed explanation comes with the \"autograd.misc.flatten\" function below.\n",
    "    '''\n",
    "    params = unpack(param_buf)\n",
    "    logits = adaptive_rbfn_logits(x, params)\n",
    "    \n",
    "    #### BEGINNING OF IMPLEMENTATION OF REPLACEMENT\n",
    "    log_probs = logits.ravel()[[i*logits.shape[1]+j for i, j in enumerate(y)]] - autograd.scipy.misc.logsumexp(logits, axis=1)\n",
    "    \n",
    "    ## -- this softmax is used to be with its corresponding cost function that can be\n",
    "    ## -- seen below, I kept this here for reference purposes\n",
    "    ## (1) softmax = logits - autograd.scipy.misc.logsumexp(logits, axis=1, keepdims=True)\n",
    "    ## -- the cost below is second take at indexing, I found an even more optimized way to\n",
    "    ## -- make this computation above (omitting some uneccessary subtractions)\n",
    "    ## (1) cost = -(softmax.ravel()[[i*softmax.shape[1]+j for i, j in enumerate(y)]].mean())\n",
    "    \n",
    "    ## -- the cost below is first take at indexing, this proved to be considerably slow\n",
    "    ## -- so it was omitted from the implementation and optimized above, it can be used\n",
    "    ## -- with the softmax given in (1)\n",
    "    ## (2) cost = -(softmax[np.arange(x.shape[0]), y].mean())\n",
    "    \n",
    "    cost = -log_probs.mean()\n",
    "    #### END OF IMPLEMENTATION OF REPLACEMENT\n",
    "    \n",
    "    #### BEGINNING OF CODE TO BE REPLACED\n",
    "    ## exp_logits = np.exp(logits)\n",
    "    ## softmax = exp_logits / exp_logits.sum(axis=1, keepdims=True)\n",
    "    ## log_probs = np.log(softmax[np.arange(x.shape[0]), y])\n",
    "    ## cost = -log_probs.mean()\n",
    "    #### END OF CODE TO BE REPLACED\n",
    "    \n",
    "    return cost"
   ]
  },
  {
   "cell_type": "code",
   "execution_count": 6,
   "metadata": {
    "collapsed": true
   },
   "outputs": [],
   "source": [
    "# This statement returns a function that has the same signature as adaptive_rbfn_cost(),\n",
    "# but returns both the cost and the gradient.\n",
    "adaptive_rbfn_cost_and_grad = value_and_grad(adaptive_rbfn_cost)"
   ]
  },
  {
   "cell_type": "code",
   "execution_count": 7,
   "metadata": {
    "collapsed": true
   },
   "outputs": [],
   "source": [
    "def train_full_batch(cost_and_grad, initial_params, train_data, train_labels, use_scipy=True, learning_rate=1, max_iter=30000):\n",
    "    # NOTE: We should have early stopping here, but it is left for you to implement in the next problem (not here).\n",
    "    # Autograd.misc.flatten() is a tricky function that allows us to compute the gradients to all parameters\n",
    "    # with a single grad() call.\n",
    "    # It takes in a list or dictionary, and returns two objects:\n",
    "    # (1) a flattened, i.e. 1D, numpy array which contains all the parameters, and\n",
    "    # (2) an unflatten function, which will recover the original list/dictionary structure from the flattened array.\n",
    "    # Collapsing all the parameters into a single array would also allow us to use scipy's optimize function which\n",
    "    # only takes one input variable.\n",
    "    param_buf, unpack = autograd.misc.flatten(initial_params)\n",
    "\n",
    "    if not use_scipy:\n",
    "        for i in range(max_iter):\n",
    "            loss, dparam_buf = cost_and_grad(param_buf, train_data, train_labels, unpack)\n",
    "            param_buf -= learning_rate * dparam_buf\n",
    "            if i % 100 == 0:\n",
    "                print(i, loss)\n",
    "    else:\n",
    "        model = scipy.optimize.minimize(cost_and_grad, param_buf, (train_data, train_labels, unpack), jac=True, method='CG')\n",
    "        print(model)\n",
    "        param_buf = model.x\n",
    "    \n",
    "    return unpack(param_buf)"
   ]
  },
  {
   "cell_type": "markdown",
   "metadata": {},
   "source": [
    "Now that we have defined a function for training an adaptive RBFN, let's see how a small model works on a small dataset (100 training samples, 10 test samples)."
   ]
  },
  {
   "cell_type": "code",
   "execution_count": 8,
   "metadata": {
    "collapsed": true
   },
   "outputs": [],
   "source": [
    "train_size = 100\n",
    "test_size = 10\n",
    "n_bases = 10\n",
    "n_features = np.prod(train_data.shape[1:])\n",
    "\n",
    "params = {}\n",
    "params['bases'] = np.random.rand(n_bases, n_features)\n",
    "params['w'] = np.random.randn(n_bases, 10) * 0.1\n",
    "params['b'] = np.zeros(10)"
   ]
  },
  {
   "cell_type": "code",
   "execution_count": 9,
   "metadata": {},
   "outputs": [
    {
     "name": "stdout",
     "output_type": "stream",
     "text": [
      "0 2.2797466902499983\n",
      "100 2.2625062660645163\n",
      "200 2.2617573538945366\n",
      "300 2.260959577013172\n",
      "400 2.2600789822510854\n",
      "500 2.25907619991742\n",
      "600 2.257904010464178\n",
      "700 2.25650438987411\n",
      "800 2.2548048659019453\n",
      "900 2.2527140036333924\n",
      "1000 2.250115840977206\n",
      "1100 2.2468631338122096\n",
      "1200 2.242769383327068\n",
      "1300 2.237599864857533\n",
      "1400 2.2310623494818564\n",
      "1500 2.222799028529101\n",
      "1600 2.212382441297501\n",
      "1700 2.1993199986600938\n",
      "1800 2.183073698744758\n",
      "1900 2.163102816563436\n",
      "2000 2.1389354609290643\n",
      "2100 2.1102665372346556\n",
      "2200 2.0770625523643442\n",
      "2300 2.0396325229068424\n",
      "2400 1.998616449035278\n",
      "2500 1.954870655892881\n",
      "2600 1.9092895172294289\n",
      "2700 1.862648168639827\n",
      "2800 1.8155332592270323\n",
      "2900 1.7683647750012925\n",
      "3000 1.7214621305938087\n",
      "3100 1.6751035437562443\n",
      "3200 1.629553054314419\n",
      "3300 1.5850565930126514\n",
      "3400 1.5418228611168339\n",
      "3500 1.5000055107958914\n",
      "3600 1.4596958742197432\n",
      "3700 1.420927174972336\n",
      "3800 1.383686177332894\n",
      "3900 1.3479272681332062\n",
      "4000 1.31358538305244\n",
      "4100 1.2805861182356164\n",
      "4200 1.248852788564215\n",
      "4300 1.2183109043531541\n",
      "4400 1.1888907318535695\n",
      "4500 1.160528535324393\n",
      "4600 1.1331669501726163\n",
      "4700 1.1067547983894375\n",
      "4800 1.0812465582459918\n",
      "4900 1.056601637901222\n",
      "5000 1.0327835646332257\n",
      "5100 1.0097591754532804\n",
      "5200 0.9874978728337028\n",
      "5300 0.9659709878343069\n",
      "5400 0.9451512721173454\n",
      "5500 0.9250125219036848\n",
      "5600 0.9055293226744251\n",
      "5700 0.886676894403228\n",
      "5800 0.8684310132818049\n",
      "5900 0.8507679863477584\n",
      "6000 0.8336646587301892\n",
      "6100 0.8170984379265878\n",
      "6200 0.80104732439937\n",
      "6300 0.7854899420199879\n",
      "6400 0.7704055650939888\n",
      "6500 0.7557741408063005\n",
      "6600 0.7415763070829829\n",
      "6700 0.7277934063264027\n",
      "6800 0.7144074955118276\n",
      "6900 0.7014013529606059\n",
      "7000 0.6887584818892963\n",
      "7100 0.6764631106695382\n",
      "7200 0.6645001896590873\n",
      "7300 0.6528553844808438\n",
      "7400 0.6415150657125289\n",
      "7500 0.630466295075242\n",
      "7600 0.6196968083455394\n",
      "7700 0.6091949953398099\n",
      "7800 0.5989498774164411\n",
      "7900 0.5889510830029878\n",
      "8000 0.5791888216810345\n",
      "8100 0.5696538573539393\n",
      "8200 0.5603374809881092\n",
      "8300 0.5512314833640787\n",
      "8400 0.5423281282066873\n",
      "8500 0.5336201259907134\n",
      "8600 0.5251006086449423\n",
      "8700 0.5167631053081398\n",
      "8800 0.5086015192278055\n",
      "8900 0.5006101058388438\n",
      "9000 0.49278345201534807\n",
      "9100 0.4851164564547593\n",
      "9200 0.4776043111293249\n",
      "9300 0.4702424837242454\n",
      "9400 0.4630267009740715\n",
      "9500 0.4559529328075914\n",
      "9600 0.44901737721533735\n",
      "9700 0.4422164457616984\n",
      "9800 0.43554674967426105\n",
      "9900 0.4290050864553428\n",
      "10000 0.42258842697377635\n",
      "10100 0.41629390300804886\n",
      "10200 0.4101187952242277\n",
      "10300 0.40406052158321915\n",
      "10400 0.39811662618139676\n",
      "10500 0.39228476853627803\n",
      "10600 0.38656271333459274\n",
      "10700 0.3809483206637268\n",
      "10800 0.3754395367492163\n",
      "10900 0.3700343852208593\n",
      "11000 0.364730958928278\n",
      "11100 0.35952741232366026\n",
      "11200 0.3544219544251986\n",
      "11300 0.3494128423697094\n",
      "11400 0.3444983755573255\n",
      "11500 0.33967689038530824\n",
      "11600 0.33494675556212355\n",
      "11700 0.3303063679872556\n",
      "11800 0.3257541491769033\n",
      "11900 0.3212885422109452\n",
      "12000 0.3169080091724206\n",
      "12100 0.3126110290473713\n",
      "12200 0.3083960960502488\n",
      "12300 0.3042617183382223\n",
      "12400 0.30020641707661216\n",
      "12500 0.29622872581728305\n",
      "12600 0.29232719015208375\n",
      "12700 0.2885003676042752\n",
      "12800 0.284746827722235\n",
      "12900 0.2810651523414959\n",
      "13000 0.2774539359832793\n",
      "13100 0.2739117863600377\n",
      "13200 0.27043732496104256\n",
      "13300 0.26702918769367506\n",
      "13400 0.2636860255587374\n",
      "13500 0.26040650534072945\n",
      "13600 0.25718931029661\n",
      "13700 0.25403314082901024\n",
      "13800 0.2509367151321957\n",
      "13900 0.24789876980122813\n",
      "14000 0.24491806039677172\n",
      "14100 0.24199336195978272\n",
      "14200 0.23912346947194593\n",
      "14300 0.2363071982591481\n",
      "14400 0.2335433843365246\n",
      "14500 0.23083088469469856\n",
      "14600 0.22816857752773664\n",
      "14700 0.22555536240410948\n",
      "14800 0.22299016038256267\n",
      "14900 0.22047191407529887\n",
      "15000 0.21799958766124733\n",
      "15100 0.21557216685248012\n",
      "15200 0.21318865881701746\n",
      "15300 0.21084809206138297\n",
      "15400 0.20854951627631535\n",
      "15500 0.20629200214903196\n",
      "15600 0.20407464114539317\n",
      "15700 0.20189654526521708\n",
      "15800 0.19975684677388394\n",
      "15900 0.19765469791321855\n",
      "16000 0.19558927059448422\n",
      "16100 0.19355975607615034\n",
      "16200 0.19156536462891519\n",
      "16300 0.1896053251902882\n",
      "16400 0.18767888501085103\n",
      "16500 0.18578530929413803\n",
      "16600 0.18392388083190286\n",
      "16700 0.18209389963637032\n",
      "16800 0.18029468257090744\n",
      "16900 0.17852556298039882\n",
      "17000 0.17678589032246472\n",
      "17100 0.17507502980052753\n",
      "17200 0.17339236199960478\n",
      "17300 0.17173728252559353\n",
      "17400 0.1701092016487045\n",
      "17500 0.16850754395160422\n",
      "17600 0.16693174798274096\n",
      "17700 0.16538126591524552\n",
      "17800 0.16385556321172995\n",
      "17900 0.16235411829523966\n",
      "18000 0.1608764222265619\n",
      "18100 0.1594219783880387\n",
      "18200 0.15799030217399207\n",
      "18300 0.15658092068782678\n",
      "18400 0.15519337244584466\n",
      "18500 0.1538272070877759\n",
      "18600 0.15248198509400362\n",
      "18700 0.15115727750944216\n",
      "18800 0.1498526656740078\n",
      "18900 0.14856774095960656\n",
      "19000 0.14730210451355302\n",
      "19100 0.14605536700831964\n",
      "19200 0.1448271483975142\n",
      "19300 0.14361707767797052\n",
      "19400 0.14242479265783742\n",
      "19500 0.14124993973054495\n",
      "19600 0.1400921736545241\n",
      "19700 0.13895115733855734\n",
      "19800 0.13782656163263363\n",
      "19900 0.13671806512418358\n",
      "20000 0.1356253539395715\n",
      "20100 0.13454812155071758\n",
      "20200 0.13348606858673304\n",
      "20300 0.13243890265044173\n",
      "20400 0.13140633813967711\n",
      "20500 0.13038809607323024\n",
      "20600 0.12938390392134172\n",
      "20700 0.128393495440619\n",
      "20800 0.1274166105132747\n",
      "20900 0.12645299499057489\n",
      "21000 0.12550240054039474\n",
      "21100 0.12456458449877643\n",
      "21200 0.12363930972539115\n",
      "21300 0.12272634446280577\n",
      "21400 0.1218254621994582\n",
      "21500 0.12093644153624933\n",
      "21600 0.120059066056658\n",
      "21700 0.11919312420029121\n",
      "21800 0.1183384091397809\n",
      "21900 0.11749471866094438\n",
      "22000 0.11666185504612227\n",
      "22100 0.11583962496061365\n",
      "22200 0.11502783934213064\n",
      "22300 0.1142263132931917\n",
      "22400 0.11343486597637992\n",
      "22500 0.11265332051239149\n",
      "22600 0.11188150388080204\n",
      "22700 0.11111924682347972\n",
      "22800 0.11036638375057581\n",
      "22900 0.10962275264902738\n",
      "23000 0.10888819499350035\n",
      "23100 0.1081625556597179\n",
      "23200 0.10744568284010107\n",
      "23300 0.10673742796166717\n",
      "23400 0.10603764560612315\n",
      "23500 0.10534619343209581\n",
      "23600 0.10466293209944158\n",
      "23700 0.10398772519558044\n",
      "23800 0.10332043916379831\n",
      "23900 0.10266094323346707\n",
      "24000 0.10200910935212701\n",
      "24100 0.10136481211938472\n",
      "24200 0.10072792872257418\n",
      "24300 0.10009833887413495\n",
      "24400 0.09947592475065851\n",
      "24500 0.09886057093355927\n",
      "24600 0.09825216435132457\n",
      "24700 0.09765059422329926\n",
      "24800 0.0970557520049649\n",
      "24900 0.09646753133467023\n",
      "25000 0.09588582798177395\n",
      "25100 0.09531053979615986\n",
      "25200 0.0947415666590878\n",
      "25300 0.09417881043534163\n",
      "25400 0.09362217492663884\n",
      "25500 0.09307156582626754\n",
      "25600 0.092526890674915\n",
      "25700 0.09198805881765701\n",
      "25800 0.09145498136207195\n",
      "25900 0.09092757113745302\n",
      "26000 0.09040574265508332\n",
      "26100 0.08988941206954759\n",
      "26200 0.08937849714104988\n",
      "26300 0.08887291719870946\n",
      "26400 0.08837259310480818\n",
      "26500 0.08787744721996184\n",
      "26600 0.08738740336919033\n",
      "26700 0.08690238680886203\n",
      "26800 0.08642232419448673\n",
      "26900 0.08594714354933487\n",
      "27000 0.0854767742338581\n",
      "27100 0.08501114691589255\n",
      "27200 0.0845501935416181\n",
      "27300 0.08409384730725716\n",
      "27400 0.0836420426314893\n",
      "27500 0.08319471512856381\n",
      "27600 0.08275180158208986\n",
      "27700 0.08231323991948544\n",
      "27800 0.08187896918706854\n",
      "27900 0.08144892952576922\n",
      "28000 0.08102306214745074\n",
      "28100 0.08060130931181736\n",
      "28200 0.0801836143038971\n",
      "28300 0.07976992141208088\n",
      "28400 0.07936017590670479\n",
      "28500 0.07895432401915929\n",
      "28600 0.07855231292151109\n",
      "28700 0.07815409070662399\n",
      "28800 0.07775960636876682\n",
      "28900 0.07736880978469064\n",
      "29000 0.07698165169516813\n",
      "29100 0.07659808368697858\n",
      "29200 0.0762180581753281\n",
      "29300 0.07584152838669295\n",
      "29400 0.07546844834207539\n",
      "29500 0.07509877284065927\n",
      "29600 0.07473245744385693\n",
      "29700 0.07436945845973417\n",
      "29800 0.07400973292780656\n",
      "29900 0.0736532386041941\n",
      "CPU times: user 16min 34s, sys: 1min 48s, total: 18min 22s\n",
      "Wall time: 18min 22s\n"
     ]
    }
   ],
   "source": [
    "%%time\n",
    "new_params = train_full_batch(adaptive_rbfn_cost_and_grad, params, train_data[:train_size], train_labels[:train_size], False)"
   ]
  },
  {
   "cell_type": "code",
   "execution_count": 10,
   "metadata": {},
   "outputs": [
    {
     "name": "stdout",
     "output_type": "stream",
     "text": [
      "7 / 10\n"
     ]
    }
   ],
   "source": [
    "y_hat = adaptive_rbfn_logits(test_data[:test_size], new_params).argmax(axis=1)\n",
    "print(np.equal(y_hat, test_labels[:test_size]).sum(), '/', test_size)"
   ]
  },
  {
   "cell_type": "markdown",
   "metadata": {},
   "source": [
    "When the gradient is computed from the entire training set, we usually call it *(full) batch gradient descent*.  However, batch gradient descent is time- and memory-consuming, in the sense that it has to go through all the training examples and average all the gradients for a *single* step, and it quickly becomes impractical if the dataset or the model becomes large.\n",
    "\n",
    "The solution is *not* to see all the examples for a single gradient step.  Instead, for each step, we compute and average the gradients for only a small subset (commonly called a *minibatch*) of examples.  This is called *minibatch gradient descent*, or *stochastic gradient descent* (SGD), though the latter refer to the special case where the minibatch only contains a single example in some literatures.\n",
    "\n",
    "The intuition behind SGD is that the minibatch gradient is a noisy but unbiased estimate of the true gradient.  This of course has pros and cons.\n",
    "\n",
    "The main downside is that, due to the inherent noise of minibatch gradient, SGD no longer guarantees to converge to a local minimum, and sometimes it will fluctuates or even overshoot itself.  You will have to use a significantly smaller, and sometimes decaying, learning rate.  Very often, you would see a curve of training loss like [this](http://cs231n.github.io/neural-networks-3/#loss):\n",
    "\n",
    "![](http://cs231n.github.io/assets/nn3/loss.jpeg)\n",
    "\n",
    "The obvious upside is that estimating the gradient using minibatch is much more efficient than computing the true gradient across all training examples.  Or, after we iterate over the entire training set, we had already performed a lot of gradient steps, which is not necessarily a bad thing.  In fact, the size of a minibatch itself can be considered as a hyperparameter to fiddle with ~~although in practice few people do that~~.\n",
    "\n",
    "In practice, SGD often works good enough, especially for large models (such as neural networks) on large datasets.\n",
    "\n",
    "See [Leon Bottou's SGD Tricks](https://cilvr.cs.nyu.edu/diglib/lsml/bottou-sgd-tricks-2012.pdf) if you are interested in the details of SGD.\n",
    "\n",
    "<div class=\"alert alert-danger\">\n",
    "(15 points) Implement SGD, and train your ARBFN model with 20 bases (or any number you like) on the whole dataset, with the size of minibatch being 10.  <br/>\n",
    "Plot the training loss and validation accuracy, and report the test accuracy.  **Your implementation should have a test accuracy above 80% to be considered correct.** <br/>\n",
    "Do the same for minibatch size 100 and answer this question in the cell below: *What do you observe from the learning curve and training time of different minibatch sizes?*  <br/>\n",
    "\n",
    "You are free to define your own `train_sgd` function.  **Please do not use `autograd.misc.optimizers` package.**\n",
    "</div>\n",
    "\n",
    "<div class=\"alert alert-info\">\n",
    "**Hint:** To save your time figuring out the complete workflow of SGD, here is how we usually do it.\n",
    "<ol>\n",
    "    <li> Split the training set into a validation set and another smaller training set. </li>\n",
    "    <li> Shuffle the (rest of the) training set.  Of course, you can shuffle the indices rather than the actual items. </li>\n",
    "    <li> Divide the training set into equally-sized minibatches.  The last batch may not have the same size as the others, and it's up to you how to deal with it (usually it doesn't matter too much). </li>\n",
    "    <li> Iterate over each minibatch, compute the gradient, and update the parameters. </li>\n",
    "    <li> After going through all the minibatches (we call that *an epoch*), evaluate the model on validation set, and decide whether to early stop.  Since SGD will fluctuate a lot, you may want to leave it run for a little while longer even if the validation error does not seem to decrease.  </li>\n",
    "    <li> Repeat 2-5 until done. </li>\n",
    "</ol>\n",
    "\n",
    "Optionally, you can also decay the learning rate after each minibatch or each epoch.\n",
    "</div>\n",
    "\n",
    "<div class=\"alert alert-warning\">\n",
    "**Warning:** This assignment would take potentially hours to train a model to \"good performance\" on an average laptop.  In practice, it is very common for neural networks to take hours, days or even weeks to train, even if powered by GPUs which are good at matrix multiplication and elementwise computation.\n",
    "</div>"
   ]
  },
  {
   "cell_type": "markdown",
   "metadata": {},
   "source": [
    "**Double click this sentence**, replace it with *your answer and/or LaTeX equations* (like $a=b+c$) here, then press `Ctrl+Enter`."
   ]
  },
  {
   "cell_type": "code",
   "execution_count": 11,
   "metadata": {
    "collapsed": true,
    "scrolled": false
   },
   "outputs": [],
   "source": [
    "# YOUR CODE HERE\n",
    "\n",
    "# import shuffle for shuffling multiple datasets\n",
    "from sklearn.utils import shuffle\n",
    "\n",
    "# define training set size and validation set size\n",
    "# we use 50,000 data points for training\n",
    "train_size = 50000\n",
    "# we use 10,000 data points for validation\n",
    "val_size = 10000\n",
    "\n",
    "# partition the sets for use\n",
    "X_train, X_val = train_data[:train_size], train_data[-val_size:]\n",
    "y_train, y_val = train_labels[:train_size], train_labels[-val_size:]\n",
    "\n",
    "# the number of bases is 20 (as specified above)\n",
    "n_bases = 20\n",
    "n_features = np.prod(X_train.shape[1:])\n",
    "\n",
    "# create params (parameters)\n",
    "params = {}\n",
    "params['bases'] = np.random.rand(n_bases, n_features)\n",
    "params['w'] = np.random.randn(n_bases, 10) * 0.1\n",
    "params['b'] = np.zeros(10)\n",
    "\n",
    "# get both cost and gradient of adaptive_rbfn_cost\n",
    "adaptive_rbfn_cost_and_grad = value_and_grad(adaptive_rbfn_cost)\n",
    "\n",
    "# train_sgd function, accepts as input:\n",
    "#   cost_and_grad    -- autograd computed cost and grad function\n",
    "#   initial_params   -- the initial parameters, i.e. the bases, w and b\n",
    "#   X_train          -- the data for the training set\n",
    "#   y_train          -- the labels for the training set\n",
    "#   X_val            -- the data for the validation set\n",
    "#   y_val            -- the labels for the validation set\n",
    "#   size_minibatches -- the size of minibatches to be used, default: 10\n",
    "#   learning_rate    -- the learning rate to update the weight matrix, default: 1\n",
    "#   max_iter         -- the maximum number of iterations to consider, default : 2000\n",
    "#\n",
    "def train_sgd(cost_and_grad, initial_params, X_train, y_train, X_val, y_val, size_minibatches=10, learning_rate=1, max_iter=2000):\n",
    "    \n",
    "    param_buf, unpack = autograd.misc.flatten(initial_params)\n",
    "    \n",
    "    # history arrays to be used to plot values\n",
    "    training_loss_history = []\n",
    "    valid_accuracy_history = []\n",
    "    num_epochs = []\n",
    "    \n",
    "    # previous validation accruacy value to be used for early stopping\n",
    "    prev_valid_accuracy = 0\n",
    "    # patience number for early stopping, tracks number of iterations the validation accuracy stayed the same for\n",
    "    patience = 0\n",
    "    \n",
    "    # the number of minibatches to be used\n",
    "    num_minibatches = int(X_train.shape[0] / size_minibatches)\n",
    "    \n",
    "    # we go over max_iter number of epochs\n",
    "    for i in range(max_iter):\n",
    "        \n",
    "        # shuffle the sets\n",
    "        X_train, y_train = shuffle(X_train, y_train)\n",
    "        # split the sets into minibatches\n",
    "        X_train_split, y_train_split = np.array_split(X_train, num_minibatches), np.array_split(y_train, num_minibatches)\n",
    "        \n",
    "        # value to store estimate of the training loss for current epoch\n",
    "        curr_training_loss = 0\n",
    "        \n",
    "        # iterate over each minibatch and update parameters loss and param_buf\n",
    "        for minibatch in range(num_minibatches):\n",
    "            loss, dparam_buf = cost_and_grad(param_buf, X_train_split[minibatch], y_train_split[minibatch], unpack)\n",
    "            curr_training_loss += loss\n",
    "            param_buf -= learning_rate * dparam_buf\n",
    "        \n",
    "        # estimate overall training_loss by taking average over the batches\n",
    "        curr_training_loss /= num_minibatches\n",
    "        \n",
    "        # use current epoch trained model on validation set\n",
    "        y_hat = adaptive_rbfn_logits(X_val, unpack(param_buf)).argmax(axis=1)\n",
    "        \n",
    "        # if first iteration simply update prev_valid_accuracy, else do early stopping\n",
    "        if i == 0:\n",
    "            prev_valid_accuracy = np.equal(y_hat, y_val).sum() / val_size\n",
    "        else:\n",
    "            # compute new validation accuracy\n",
    "            new_valid_accuracy = np.equal(y_hat, y_val).sum() / val_size\n",
    "            # if better than previous then update previous and reset patience\n",
    "            if new_valid_accuracy > prev_valid_accuracy:\n",
    "                prev_valid_accuracy = new_valid_accuracy\n",
    "                patience = 0\n",
    "            else:\n",
    "                # if it has been too many iterations (i.e. 20) exit loop, else update patience\n",
    "                if (patience > 20):\n",
    "                    print(\"Epoch #\", i, \"-- Training loss:\", curr_training_loss, \"-- Validation accuracy:\", prev_valid_accuracy)\n",
    "                    break\n",
    "                else:\n",
    "                    patience += 1\n",
    "                    \n",
    "        # debugging statement below, uncomment to observe the results of each epoch           \n",
    "        # print(\"Epoch #\", i, \"-- Training loss:\", curr_training_loss, \"-- Validation accuracy:\", prev_valid_accuracy)\n",
    "        \n",
    "        # update history arrays\n",
    "        training_loss_history.append(curr_training_loss)\n",
    "        valid_accuracy_history.append(prev_valid_accuracy)\n",
    "        num_epochs.append(i)\n",
    "        \n",
    "    # return the results as a tuple of the learned model and the history arrays        \n",
    "    return (unpack(param_buf), training_loss_history, valid_accuracy_history, num_epochs)"
   ]
  },
  {
   "cell_type": "code",
   "execution_count": 12,
   "metadata": {},
   "outputs": [
    {
     "name": "stdout",
     "output_type": "stream",
     "text": [
      "Epoch # 72 -- Training loss: 0.30605619729271627 -- Validation accuracy: 0.9227\n",
      "CPU times: user 58min 58s, sys: 1min 16s, total: 1h 15s\n",
      "Wall time: 1h 15s\n"
     ]
    }
   ],
   "source": [
    "%%time\n",
    "results_1 = train_sgd(adaptive_rbfn_cost_and_grad, params, X_train, y_train, X_val, y_val)"
   ]
  },
  {
   "cell_type": "code",
   "execution_count": 13,
   "metadata": {},
   "outputs": [
    {
     "data": {
      "image/png": "[encoded data removed]",
      "text/plain": [
       "<Figure size 432x288 with 2 Axes>"
      ]
     },
     "metadata": {},
     "output_type": "display_data"
    }
   ],
   "source": [
    "# plot the results from results_1 (minibatch size = 10)\n",
    "fig, ax1 = plot.subplots()\n",
    "ax1.plot(results_1[1], 'b-', label='Training Loss')\n",
    "ax1.set_xlabel('Epochs')\n",
    "ax1.set_ylabel('Training Loss', color='b')\n",
    "ax1.tick_params('y', colors='b')\n",
    "ax2 = ax1.twinx()\n",
    "ax2.plot(results_1[2], 'r-', label='Validation Accuracy')\n",
    "ax2.set_ylabel('Validation Accuracy', color='r')\n",
    "ax2.tick_params('y', colors='r')\n",
    "fig.tight_layout()"
   ]
  },
  {
   "cell_type": "code",
   "execution_count": 14,
   "metadata": {},
   "outputs": [
    {
     "name": "stdout",
     "output_type": "stream",
     "text": [
      "The test accuracy when minibatch size = 10 is: 0.9117\n"
     ]
    }
   ],
   "source": [
    "# report the test accuracy for results_1 (minibatch size = 10)\n",
    "param_buf, unpack = autograd.misc.flatten(results_1[0])\n",
    "y_hat = adaptive_rbfn_logits(test_data, unpack(param_buf)).argmax(axis=1)\n",
    "test_accuracy = np.equal(y_hat, test_labels).sum() / (test_labels.shape[0])\n",
    "print(\"The test accuracy when minibatch size = 10 is:\", test_accuracy)"
   ]
  },
  {
   "cell_type": "code",
   "execution_count": 15,
   "metadata": {},
   "outputs": [
    {
     "name": "stdout",
     "output_type": "stream",
     "text": [
      "Epoch # 160 -- Training loss: 0.31912724395099296 -- Validation accuracy: 0.9187\n",
      "CPU times: user 1h 28min 20s, sys: 11min 58s, total: 1h 40min 18s\n",
      "Wall time: 1h 40min 18s\n"
     ]
    }
   ],
   "source": [
    "%%time\n",
    "results_2 = train_sgd(adaptive_rbfn_cost_and_grad, params, X_train, y_train, X_val, y_val, 100)"
   ]
  },
  {
   "cell_type": "code",
   "execution_count": 16,
   "metadata": {},
   "outputs": [
    {
     "data": {
      "image/png": "[encoded data removed]",
      "text/plain": [
       "<Figure size 432x288 with 2 Axes>"
      ]
     },
     "metadata": {},
     "output_type": "display_data"
    }
   ],
   "source": [
    "# plot the results from results_2 (minibatch size = 100)\n",
    "fig, ax1 = plot.subplots()\n",
    "ax1.plot(results_2[1], 'b-', label='Training Loss')\n",
    "ax1.set_xlabel('Epochs')\n",
    "ax1.set_ylabel('Training Loss', color='b')\n",
    "ax1.tick_params('y', colors='b')\n",
    "ax2 = ax1.twinx()\n",
    "ax2.plot(results_2[2], 'r-', label='Validation Accuracy')\n",
    "ax2.set_ylabel('Validation Accuracy', color='r')\n",
    "ax2.tick_params('y', colors='r')\n",
    "fig.tight_layout()"
   ]
  },
  {
   "cell_type": "code",
   "execution_count": 17,
   "metadata": {},
   "outputs": [
    {
     "name": "stdout",
     "output_type": "stream",
     "text": [
      "The test accuracy when minibatch size = 10 is: 0.9151\n"
     ]
    }
   ],
   "source": [
    "# report the test accuracy for results_2 (minibatch size = 100)\n",
    "param_buf, unpack = autograd.misc.flatten(results_2[0])\n",
    "y_hat = adaptive_rbfn_logits(test_data, unpack(param_buf)).argmax(axis=1)\n",
    "test_accuracy = np.equal(y_hat, test_labels).sum() / (test_labels.shape[0])\n",
    "print(\"The test accuracy when minibatch size = 100 is:\", test_accuracy)"
   ]
  },
  {
   "cell_type": "markdown",
   "metadata": {},
   "source": [
    "For reference, here is our training loss and validation accuracy curve running for 2000 epochs.  Your training and validation curve does *not* need to look like ours; this is only supposed to give you a rough idea of how the curves would look like.\n",
    "\n",
    "![](curve.png)"
   ]
  },
  {
   "cell_type": "markdown",
   "metadata": {},
   "source": [
    "### Assignment 5: k-NN Classifier (15 points)\n",
    "\n",
    "The second goal is to compare you ARBFN against a k-NN classifier.  For the k-NN classifier, you need to try a couple $k$'s and pick the best one in a programmatic way."
   ]
  },
  {
   "cell_type": "markdown",
   "metadata": {},
   "source": [
    "<div class=\"alert alert-danger\">\n",
    "(15 points) Build a k-NN classifier using `scikit-learn` with $k$'s from 1 to 3, train it on the first 1000 examples of MNIST dataset, and report the accuracy on the full test set. <br/>\n",
    "\n",
    "Would you use the (exact) k-NN classifier you have built for very large dataset (with maybe millions of examples)?  Explain your answer.\n",
    "</div>"
   ]
  },
  {
   "cell_type": "code",
   "execution_count": 1,
   "metadata": {},
   "outputs": [
    {
     "ename": "NameError",
     "evalue": "name 'train_data' is not defined",
     "output_type": "error",
     "traceback": [
      "\u001b[0;31m---------------------------------------------------------------------------\u001b[0m",
      "\u001b[0;31mNameError\u001b[0m                                 Traceback (most recent call last)",
      "\u001b[0;32m<ipython-input-1-349c6fc4b5ce>\u001b[0m in \u001b[0;36m<module>\u001b[0;34m()\u001b[0m\n\u001b[1;32m      4\u001b[0m \u001b[0;34m\u001b[0m\u001b[0m\n\u001b[1;32m      5\u001b[0m \u001b[0;31m# flatten the training set so that it can work with sklearn\u001b[0m\u001b[0;34m\u001b[0m\u001b[0;34m\u001b[0m\u001b[0m\n\u001b[0;32m----> 6\u001b[0;31m \u001b[0mX_train\u001b[0m\u001b[0;34m,\u001b[0m \u001b[0my_train\u001b[0m \u001b[0;34m=\u001b[0m \u001b[0mtrain_data\u001b[0m\u001b[0;34m[\u001b[0m\u001b[0;34m:\u001b[0m\u001b[0;36m1000\u001b[0m\u001b[0;34m]\u001b[0m\u001b[0;34m.\u001b[0m\u001b[0mreshape\u001b[0m\u001b[0;34m(\u001b[0m\u001b[0;36m1000\u001b[0m\u001b[0;34m,\u001b[0m \u001b[0;36m28\u001b[0m\u001b[0;34m*\u001b[0m\u001b[0;36m28\u001b[0m\u001b[0;34m)\u001b[0m\u001b[0;34m,\u001b[0m \u001b[0mtrain_labels\u001b[0m\u001b[0;34m[\u001b[0m\u001b[0;34m:\u001b[0m\u001b[0;36m1000\u001b[0m\u001b[0;34m]\u001b[0m\u001b[0;34m\u001b[0m\u001b[0m\n\u001b[0m\u001b[1;32m      7\u001b[0m \u001b[0;31m# declare a validation set of size 100 to determine which k is best\u001b[0m\u001b[0;34m\u001b[0m\u001b[0;34m\u001b[0m\u001b[0m\n\u001b[1;32m      8\u001b[0m \u001b[0;34m\u001b[0m\u001b[0m\n",
      "\u001b[0;31mNameError\u001b[0m: name 'train_data' is not defined"
     ]
    }
   ],
   "source": [
    "# YOUR CODE HERE\n",
    "\n",
    "from sklearn.neighbors import KNeighborsClassifier\n",
    "\n",
    "# flatten the training set so that it can work with sklearn\n",
    "X_train, y_train = train_data[:1000].reshape(1000, 28*28), train_labels[:1000]\n",
    "# declare a validation set of size 100 to determine which k is best\n",
    "\n",
    "# optimal k variable\n",
    "best_k = 1\n",
    "best_score = 0\n",
    "\n",
    "# NOTE: WE COULD IMPLEMENT CROSS-VALIDATION FOR A MORE SERIOUS ANALYSIS\n",
    "for k in range(1, 4):\n",
    "    # let sklearn pick the best algorithm and use Euclidean distance as distance metric (p = 2)\n",
    "    knn = KNeighborsClassifier(n_neighbors=k, algorithm='auto', p=2)\n",
    "    knn.fit(X_train, y_train)\n",
    "    train_score = knn.score(X_train, y_train)\n",
    "    print(\"Training accuracy for knn when k =\", k, \"is: \", train_score)\n",
    "    if train_score > best_score:\n",
    "        best_k = k\n",
    "        best_score = train_score\n",
    "\n",
    "# flatten the testing set so that it can work with sklearn    \n",
    "X_test, y_test = test_data.reshape(test_data.shape[0], 28*28), test_labels\n",
    "\n",
    "knn = KNeighborsClassifier(n_neighbors=best_k, algorithm='auto', p=2)\n",
    "knn.fit(X_train, y_train)\n",
    "test_score = knn.score(X_test, y_test)\n",
    "print(\"Testing accuracy for knn when k =\", best_k, \"is: \", test_score)"
   ]
  },
  {
   "cell_type": "markdown",
   "metadata": {},
   "source": [
    "**Double click this sentence**, replace it with *your answer and/or LaTeX equations* (like $a=b+c$) here, then press `Ctrl+Enter`."
   ]
  },
  {
   "cell_type": "code",
   "execution_count": null,
   "metadata": {
    "collapsed": true
   },
   "outputs": [],
   "source": []
  }
 ],
 "metadata": {
  "kernelspec": {
   "display_name": "Python 3",
   "language": "python",
   "name": "python3"
  },
  "language_info": {
   "codemirror_mode": {
    "name": "ipython",
    "version": 3
   },
   "file_extension": ".py",
   "mimetype": "text/x-python",
   "name": "python",
   "nbconvert_exporter": "python",
   "pygments_lexer": "ipython3",
   "version": "3.6.3"
  }
 },
 "nbformat": 4,
 "nbformat_minor": 2
}
