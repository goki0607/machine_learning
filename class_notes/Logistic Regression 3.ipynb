{
 "cells": [
  {
   "cell_type": "markdown",
   "metadata": {},
   "source": [
    "# CSCI-UA 0473 - Introduction to Machine Learning\n",
    "## Wednesday, February 8, 2017"
   ]
  },
  {
   "cell_type": "markdown",
   "metadata": {},
   "source": [
    "## Logistic Regression \n",
    "\n",
    "### Key Points\n",
    "SETUP: We have a set of data points $\\{(x_{1}, y_{1}), (x_{2}, y_{2}), ... , (x_{n}, y_{n})\\}$, where $x_{i} \\in R^{d}$ are the feature vectors and $y_{i} \\in \\{0, 1\\}$ are the class labels.\n",
    "\n",
    "MODEL: $p_{+} = p(y = 1|x) = \\frac{1}{1 + e^{-w.x + b}}$, where $w, b \\in R^{d}$\n",
    "\n",
    "DISTANCE FUNCTION: -$(y * log(p_{+}) + (1 - y) * log(1 - p_{+}))$\n",
    "\n",
    "LEARNING RULE: $w \\leftarrow w - \\eta * (\\hat{y} - y) * x$"
   ]
  },
  {
   "cell_type": "code",
   "execution_count": 1,
   "metadata": {
    "collapsed": true
   },
   "outputs": [],
   "source": [
    "%matplotlib notebook \n",
    "\n",
    "import autograd.numpy as numpy\n",
    "import autograd.numpy.random as npr\n",
    "\n",
    "from autograd import grad\n",
    "\n",
    "import scipy.optimize\n",
    "import matplotlib.pyplot as plot"
   ]
  },
  {
   "cell_type": "code",
   "execution_count": 2,
   "metadata": {
    "collapsed": true
   },
   "outputs": [],
   "source": [
    "import matplotlib\n",
    "%matplotlib inline"
   ]
  },
  {
   "cell_type": "code",
   "execution_count": 3,
   "metadata": {
    "collapsed": true
   },
   "outputs": [],
   "source": [
    "npr.seed(1234)"
   ]
  },
  {
   "cell_type": "markdown",
   "metadata": {},
   "source": [
    "## 1. Data Preparation"
   ]
  },
  {
   "cell_type": "code",
   "execution_count": 4,
   "metadata": {
    "collapsed": true
   },
   "outputs": [],
   "source": [
    "from sklearn.datasets import make_blobs\n",
    "\n",
    "n_dim = 2\n",
    "x_train, y_train = make_blobs(n_samples=100, n_features=n_dim, centers=[[1,1],[-1,-1],[1,-1],[-1,1]], shuffle=True, cluster_std=0.5)\n",
    "x_test, y_test = make_blobs(n_samples=100, n_features=n_dim, centers=[[1,1],[-1,-1],[1,-1],[-1,1]], shuffle=True, cluster_std=0.5)\n",
    "\n",
    "# Preparing the class labels\n",
    "\n",
    "# Training data\n",
    "y_train[y_train == 2] = 0\n",
    "y_train[y_train == 3] = 1\n",
    "\n",
    "# Test data\n",
    "y_test[y_test == 2] = 0\n",
    "y_test[y_test == 3] = 1"
   ]
  },
  {
   "cell_type": "code",
   "execution_count": 5,
   "metadata": {
    "collapsed": true
   },
   "outputs": [],
   "source": [
    "# Visualize data \n",
    "def vis_data(x, y = None, c='r', title = ''):\n",
    "    if y is None: \n",
    "        y = [None] * len(x)\n",
    "    for x_, y_ in zip(x, y):\n",
    "        if y_ is None:\n",
    "            plot.plot(x_[0], x_[1], 'o', markerfacecolor='none', markeredgecolor=c)\n",
    "        else:\n",
    "            plot.plot(x_[0], x_[1], c+'o' if y_ == 0 else c+'+')\n",
    "    plot.grid('on')\n",
    "    plot.title(title)"
   ]
  },
  {
   "cell_type": "code",
   "execution_count": 6,
   "metadata": {},
   "outputs": [
    {
     "data": {
      "image/png": "[encoded data removed]",
      "text/plain": [
       "<matplotlib.figure.Figure at 0x10e9bad68>"
      ]
     },
     "metadata": {},
     "output_type": "display_data"
    }
   ],
   "source": [
    "vis_data(x_train, y_train, title = 'Training Data')"
   ]
  },
  {
   "cell_type": "code",
   "execution_count": 21,
   "metadata": {},
   "outputs": [
    {
     "data": {
      "image/png": "[encoded data removed]",
      "text/plain": [
       "<matplotlib.figure.Figure at 0x1a1890ad68>"
      ]
     },
     "metadata": {},
     "output_type": "display_data"
    }
   ],
   "source": [
    "vis_data(x_test, y_test, title = 'Testing Data')"
   ]
  },
  {
   "cell_type": "markdown",
   "metadata": {},
   "source": [
    "## 2. Model Definition"
   ]
  },
  {
   "cell_type": "code",
   "execution_count": 7,
   "metadata": {
    "collapsed": true
   },
   "outputs": [],
   "source": [
    "'''\n",
    "Sigmoid function.\n",
    "\n",
    "INPUT: A scalar/vector\n",
    "OUTPUT: A value between (0, 1) for each input component\n",
    "'''\n",
    "\n",
    "# equation 1.12\n",
    "\n",
    "def sigmoid(a):\n",
    "    return 1. / (1. + numpy.exp(-a))"
   ]
  },
  {
   "cell_type": "code",
   "execution_count": 8,
   "metadata": {
    "collapsed": true
   },
   "outputs": [],
   "source": [
    "'''\n",
    "Definition of the logistic regression model.\n",
    "\n",
    "INPUT: Feature vector (x) and weight vector (w)\n",
    "OUTPUT: The probability of each data point belonging to the positive class.\n",
    "'''\n",
    "\n",
    "def logreg(x, w, pre=False):\n",
    "    x = x.reshape([1, -1]) if len(x.shape) < 2 else x\n",
    "    \n",
    "    y = numpy.sum(x * w[None,:-1], axis=1) + w[-1]\n",
    "    if pre:\n",
    "        return y    \n",
    "    return sigmoid(y)"
   ]
  },
  {
   "cell_type": "code",
   "execution_count": 9,
   "metadata": {
    "collapsed": true
   },
   "outputs": [],
   "source": [
    "'''\n",
    "Distance function of the logistic regression model (popularly called likelihood). \n",
    "\n",
    "INPUT: True labels (y), feature vector (x) and weight vector (w)\n",
    "OUTPUT: Log of the likelihood for the given 'w'\n",
    "'''\n",
    "\n",
    "# equation 1.13 **\n",
    "\n",
    "def logreg_dist(y, x, w, avg=False):\n",
    "    y_ = logreg(x, w)\n",
    "    \n",
    "    d = -(y * numpy.log(y_ + 1e-12) + (1. - y) * numpy.log(1-y_ + 1e-12)) # **\n",
    "    \n",
    "    if not avg:\n",
    "        return d\n",
    "    return numpy.mean(d)"
   ]
  },
  {
   "cell_type": "code",
   "execution_count": 10,
   "metadata": {
    "collapsed": true
   },
   "outputs": [],
   "source": [
    "'''\n",
    "THIS IS WHAT WE HAD BEFORE!!\n",
    "\n",
    "Learning rule for the logistic regression model.\n",
    "\n",
    "INPUT: True labels (y), feature vector (x) and weight vector (w)\n",
    "OUTPUT: The direction of update for the weight vector\n",
    "'''\n",
    "\n",
    "# equation 1.14\n",
    "\n",
    "def logreg_rule_defined_manually(y, x, w):\n",
    "    y_ = logreg(x, w)\n",
    "    dw = numpy.zeros(w.shape)\n",
    "    dw[:-1] = numpy.mean((y_ - y)[:, None] * x, axis=0)\n",
    "    dw[-1] = numpy.mean(y_ - y)\n",
    "    return dw"
   ]
  },
  {
   "cell_type": "code",
   "execution_count": 11,
   "metadata": {
    "collapsed": true
   },
   "outputs": [],
   "source": [
    "'''\n",
    "THANKS TO AUTOGRAD, THIS IS WHAT WE HAVE NOW!!\n",
    "\n",
    "Learning rule for the logistic regression model.\n",
    "\n",
    "INPUT: True labels (y), feature vector (x) and weight vector (w)\n",
    "OUTPUT: The direction of update for the weight vector\n",
    "'''\n",
    "\n",
    "def cost(w, x, y):\n",
    "    return logreg_dist(y, x, w, avg=True)\n",
    "\n",
    "# Computing the gradient\n",
    "logreg_rule = grad(cost)"
   ]
  },
  {
   "cell_type": "code",
   "execution_count": 12,
   "metadata": {
    "collapsed": true
   },
   "outputs": [],
   "source": [
    "def _logreg_dist(w, x, y, avg=False):\n",
    "    return logreg_dist(y, x, w, avg=avg)"
   ]
  },
  {
   "cell_type": "markdown",
   "metadata": {},
   "source": [
    "## 3. Learning Process"
   ]
  },
  {
   "cell_type": "code",
   "execution_count": 13,
   "metadata": {},
   "outputs": [
    {
     "name": "stdout",
     "output_type": "stream",
     "text": [
      "Before Training : Training error rate 0.83, Test error rate 0.78\n"
     ]
    }
   ],
   "source": [
    "w0 = 0.01 * numpy.random.randn(n_dim+1); w0[-1] = 0.\n",
    "w = numpy.copy(w0)\n",
    "\n",
    "training_error = numpy.sum(numpy.abs(numpy.round(logreg(x_train, w)) - y_train)) / numpy.float(len(y_train))\n",
    "test_error = numpy.sum(numpy.abs(numpy.round(logreg(x_test, w)) - y_test)) / numpy.float(len(y_test))\n",
    "\n",
    "print ('Before Training : Training error rate {}, Test error rate {}'.format(training_error, test_error))\n",
    "\n",
    "trained_model = scipy.optimize.minimize(_logreg_dist, w0, (x_train, y_train, True), method='CG', jac=grad(_logreg_dist))"
   ]
  },
  {
   "cell_type": "code",
   "execution_count": 14,
   "metadata": {},
   "outputs": [
    {
     "name": "stdout",
     "output_type": "stream",
     "text": [
      "     fun: 0.03236650218334504\n",
      "     jac: array([  4.88692352e-07,   1.35518747e-06,   1.87556195e-06])\n",
      " message: 'Optimization terminated successfully.'\n",
      "    nfev: 62\n",
      "     nit: 14\n",
      "    njev: 62\n",
      "  status: 0\n",
      " success: True\n",
      "       x: array([-12.16707887,   0.18110462,   0.39149466])\n"
     ]
    }
   ],
   "source": [
    "print (trained_model)\n",
    "w = trained_model.x"
   ]
  },
  {
   "cell_type": "markdown",
   "metadata": {},
   "source": [
    "## 4. Visualize Final Model"
   ]
  },
  {
   "cell_type": "code",
   "execution_count": 15,
   "metadata": {
    "collapsed": true
   },
   "outputs": [],
   "source": [
    "def vis_hyperplane(w, typ='k--'):\n",
    "    lim0 = plot.gca().get_xlim()\n",
    "    lim1 = plot.gca().get_ylim()\n",
    "    m0, m1 = lim0[0], lim0[1]\n",
    "\n",
    "    intercept0 = -(w[0] * m0 + w[-1])/w[1]\n",
    "    intercept1 = -(w[0] * m1 + w[-1])/w[1]\n",
    "    \n",
    "    plt1, = plot.plot([m0, m1], [intercept0, intercept1], typ)\n",
    "\n",
    "    plot.gca().set_xlim(lim0)\n",
    "    plot.gca().set_ylim(lim1)\n",
    "    \n",
    "    return plt1"
   ]
  },
  {
   "cell_type": "code",
   "execution_count": 16,
   "metadata": {},
   "outputs": [
    {
     "data": {
      "image/png": "[encoded data removed]",
      "text/plain": [
       "<matplotlib.figure.Figure at 0x1a1778f438>"
      ]
     },
     "metadata": {},
     "output_type": "display_data"
    }
   ],
   "source": [
    "plot.figure()\n",
    "\n",
    "vis_data(x_train, y_train, c='r', title = 'Training Data')\n",
    "\n",
    "plt0 = vis_hyperplane(w0, 'k-.')\n",
    "plt1 = vis_hyperplane(w, 'k--')\n",
    "plot.legend([plt0, plt1], [\n",
    "        'Initial: ${:.2} x_1 + {:.2} x_2 + {:.2} = 0$'.format(*list(w0)),\n",
    "        'Final: ${:.2f} x_1 + {:.2f} x_2 + {:.2f} = 0$'.format(*list(w))],\n",
    "           loc='best')\n",
    "\n",
    "plot.show()"
   ]
  },
  {
   "cell_type": "code",
   "execution_count": 17,
   "metadata": {
    "collapsed": true
   },
   "outputs": [],
   "source": [
    "def vis_decision_boundary_contour(w, typ='k--'):\n",
    "    lim0 = plot.gca().get_xlim()\n",
    "    lim1 = plot.gca().get_ylim()\n",
    "    \n",
    "    x_ = numpy.linspace(lim0[0], lim0[1], 100)\n",
    "    y_ = numpy.linspace(lim1[0], lim1[1], 100)\n",
    "    xx, yy = numpy.meshgrid(x_, y_)\n",
    "    \n",
    "    x_tra_ = numpy.concatenate([xx.ravel()[:,None], yy.ravel()[:,None]], axis=1)\n",
    "    \n",
    "    pred = logreg(x_tra_, w)\n",
    "    plt1 = plot.contourf(xx, yy, pred.reshape(xx.shape), cmap=plot.cm.coolwarm, alpha=0.4)\n",
    "    \n",
    "    plot.colorbar(plt1)\n",
    "    \n",
    "    plot.gca().set_xlim(lim0)\n",
    "    plot.gca().set_ylim(lim1)\n",
    "    \n",
    "    return plt1"
   ]
  },
  {
   "cell_type": "code",
   "execution_count": 18,
   "metadata": {},
   "outputs": [
    {
     "data": {
      "image/png": "[encoded data removed]",
      "text/plain": [
       "<matplotlib.figure.Figure at 0x1a179a95f8>"
      ]
     },
     "metadata": {},
     "output_type": "display_data"
    }
   ],
   "source": [
    "vis_data(x_train, y_train, c='r')\n",
    "\n",
    "plt1 = vis_decision_boundary_contour(w, 'k--')"
   ]
  },
  {
   "cell_type": "markdown",
   "metadata": {},
   "source": [
    "## 5. Testing"
   ]
  },
  {
   "cell_type": "code",
   "execution_count": 19,
   "metadata": {},
   "outputs": [
    {
     "data": {
      "text/plain": [
       "<matplotlib.legend.Legend at 0x1a18a35390>"
      ]
     },
     "execution_count": 19,
     "metadata": {},
     "output_type": "execute_result"
    },
    {
     "data": {
      "image/png": "[encoded data removed]",
      "text/plain": [
       "<matplotlib.figure.Figure at 0x1a188fe128>"
      ]
     },
     "metadata": {},
     "output_type": "display_data"
    }
   ],
   "source": [
    "vis_data(x_test, y_test, c='b')\n",
    "\n",
    "plt0 = vis_hyperplane(w0, 'k-.')\n",
    "plt1 = vis_hyperplane(w, 'k--')\n",
    "plot.legend([plt0, plt1], [\n",
    "        'Initial: ${:.2f} x_1 + {:.2f} x_2 + {:.2f} = 0$'.format(*list(w0)),\n",
    "        'Final: ${:.2f} x_1 + {:.2f} x_2 + {:.2f} = 0$'.format(*list(w))],\n",
    "           loc='best')"
   ]
  },
  {
   "cell_type": "code",
   "execution_count": 20,
   "metadata": {},
   "outputs": [
    {
     "name": "stdout",
     "output_type": "stream",
     "text": [
      "After Training : Training error rate 0.03, Test error rate 0.03\n"
     ]
    }
   ],
   "source": [
    "training_error = numpy.sum(numpy.abs(numpy.round(logreg(x_train, w)) - y_train)) / numpy.float(len(y_train))\n",
    "test_error = numpy.sum(numpy.abs(numpy.round(logreg(x_test, w)) - y_test)) / numpy.float(len(y_test))\n",
    "\n",
    "print ('After Training : Training error rate {}, Test error rate {}'.format(training_error, test_error))"
   ]
  },
  {
   "cell_type": "code",
   "execution_count": null,
   "metadata": {
    "collapsed": true
   },
   "outputs": [],
   "source": []
  },
  {
   "cell_type": "code",
   "execution_count": null,
   "metadata": {
    "collapsed": true
   },
   "outputs": [],
   "source": []
  },
  {
   "cell_type": "code",
   "execution_count": null,
   "metadata": {
    "collapsed": true
   },
   "outputs": [],
   "source": []
  },
  {
   "cell_type": "code",
   "execution_count": null,
   "metadata": {
    "collapsed": true
   },
   "outputs": [],
   "source": []
  }
 ],
 "metadata": {
  "anaconda-cloud": {},
  "kernelspec": {
   "display_name": "Python 3",
   "language": "python",
   "name": "python3"
  },
  "language_info": {
   "codemirror_mode": {
    "name": "ipython",
    "version": 3
   },
   "file_extension": ".py",
   "mimetype": "text/x-python",
   "name": "python",
   "nbconvert_exporter": "python",
   "pygments_lexer": "ipython3",
   "version": "3.6.3"
  }
 },
 "nbformat": 4,
 "nbformat_minor": 1
}
