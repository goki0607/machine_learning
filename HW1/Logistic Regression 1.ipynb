{
 "cells": [
  {
   "cell_type": "markdown",
   "metadata": {},
   "source": [
    "# CSCI-UA 0473 - Introduction to Machine Learning\n",
    "## Thursday, January 25, 2018"
   ]
  },
  {
   "cell_type": "markdown",
   "metadata": {},
   "source": [
    "## Logistic Regression \n",
    "\n",
    "### Key Points\n",
    "SETUP: We have a set of data points $\\{(x_{1}, y_{1}), (x_{2}, y_{2}), ... , (x_{n}, y_{n})\\}$, where $x_{i} \\in R^{d}$ are the feature vectors and $y_{i} \\in \\{0, 1\\}$ are the class labels.\n",
    "\n",
    "MODEL: $p_{+} = p(y = 1|x) = \\frac{1}{1 + e^{-w.x + b}}$, where $w, b \\in R^{d}$\n",
    "\n",
    "DISTANCE FUNCTION: -$(y * log(p_{+}) + (1 - y) * log(1 - p_{+}))$\n",
    "\n",
    "LEARNING RULE: $w \\leftarrow w - \\eta * (\\hat{y} - y) * x$"
   ]
  },
  {
   "cell_type": "code",
   "execution_count": 166,
   "metadata": {
    "collapsed": true
   },
   "outputs": [],
   "source": [
    "%matplotlib notebook\n",
    "%matplotlib inline\n",
    "\n",
    "import numpy\n",
    "import matplotlib.pyplot as plot\n",
    "\n",
    "import matplotlib\n",
    "matplotlib.rc('text', usetex=True)"
   ]
  },
  {
   "cell_type": "code",
   "execution_count": 167,
   "metadata": {
    "collapsed": true
   },
   "outputs": [],
   "source": [
    "numpy.random.seed(1234)"
   ]
  },
  {
   "cell_type": "markdown",
   "metadata": {},
   "source": [
    "## 1. Data Preparation"
   ]
  },
  {
   "cell_type": "code",
   "execution_count": 168,
   "metadata": {
    "collapsed": true
   },
   "outputs": [],
   "source": [
    "from sklearn.datasets import make_blobs"
   ]
  },
  {
   "cell_type": "code",
   "execution_count": 169,
   "metadata": {
    "collapsed": true
   },
   "outputs": [],
   "source": [
    "# Sample dataset preparation\n",
    "\n",
    "n_dim = 2\n",
    "x_train, y_train = make_blobs(n_samples=100, n_features=n_dim, centers=[[1,1],[-1,-1]], shuffle=True)\n",
    "x_test, y_test = make_blobs(n_samples=100, n_features=n_dim, centers=[[1,1],[-1,-1]], shuffle=True)"
   ]
  },
  {
   "cell_type": "markdown",
   "metadata": {},
   "source": [
    "## 2. Model Definition"
   ]
  },
  {
   "cell_type": "code",
   "execution_count": 170,
   "metadata": {
    "collapsed": true
   },
   "outputs": [],
   "source": [
    "'''\n",
    "Sigmoid function.\n",
    "\n",
    "INPUT: A scalar/vector\n",
    "OUTPUT: A value between (0, 1) for each input component\n",
    "'''\n",
    "\n",
    "def sigmoid(a):\n",
    "    return 1. / (1. + numpy.exp(-a))"
   ]
  },
  {
   "cell_type": "code",
   "execution_count": 171,
   "metadata": {
    "collapsed": true
   },
   "outputs": [],
   "source": [
    "'''\n",
    "Definition of the logistic regression model.\n",
    "\n",
    "INPUT: Feature vector (x) and weight vector (w)\n",
    "OUTPUT: The probability of each data point belonging to the positive class.\n",
    "'''\n",
    "\n",
    "def logreg(x, w, pre=False):\n",
    "    x = x.reshape([1, -1]) if len(x.shape) < 2 else x\n",
    "    \n",
    "    y = numpy.sum(x * w[None,:-1], axis=1) + w[-1]\n",
    "    if pre:\n",
    "        return y    \n",
    "    return sigmoid(y)"
   ]
  },
  {
   "cell_type": "code",
   "execution_count": 172,
   "metadata": {
    "collapsed": true
   },
   "outputs": [],
   "source": [
    "'''\n",
    "Distance function of the logistic regression model (popularly called likelihood). \n",
    "\n",
    "INPUT: True labels (y), feature vector (x) and weight vector (w)\n",
    "OUTPUT: Log of the likelihood for the given 'w'\n",
    "'''\n",
    "\n",
    "def logreg_dist(y, x, w, avg=False):\n",
    "    y_ = logreg(x, w)\n",
    "    \n",
    "    d = -(y * numpy.log(y_) + (1. - y) * numpy.log(1-y_))\n",
    "    \n",
    "    if not avg:\n",
    "        return d\n",
    "    return numpy.mean(d)"
   ]
  },
  {
   "cell_type": "code",
   "execution_count": 173,
   "metadata": {
    "collapsed": true
   },
   "outputs": [],
   "source": [
    "'''\n",
    "Learning rule for the logistic regression model.\n",
    "\n",
    "INPUT: True labels (y), feature vector (x) and weight vector (w)\n",
    "OUTPUT: The direction of update for the weight vector\n",
    "'''\n",
    "\n",
    "def logreg_rule(y, x, w):\n",
    "    y_ = logreg(x, w)\n",
    "    dw = numpy.zeros(w.shape)\n",
    "    dw[:-1] = numpy.mean((y_ - y)[:, None] * x, axis=0)\n",
    "    dw[-1] = numpy.mean(y_ - y)\n",
    "    return dw"
   ]
  },
  {
   "cell_type": "markdown",
   "metadata": {},
   "source": [
    "## 3. Learning Process"
   ]
  },
  {
   "cell_type": "code",
   "execution_count": 174,
   "metadata": {
    "scrolled": true
   },
   "outputs": [
    {
     "name": "stdout",
     "output_type": "stream",
     "text": [
      "Logistic regression cost 1.7992 after iteration 0\n",
      "Logistic regression cost 0.2140 after iteration 50\n",
      "Logistic regression cost 0.1548 after iteration 100\n",
      "Logistic regression cost 0.1329 after iteration 150\n",
      "Logistic regression cost 0.1210 after iteration 200\n",
      "Logistic regression cost 0.1133 after iteration 250\n",
      "Logistic regression cost 0.1078 after iteration 300\n",
      "Logistic regression cost 0.1038 after iteration 350\n",
      "Logistic regression cost 0.1007 after iteration 400\n",
      "Logistic regression cost 0.0982 after iteration 450\n",
      "Logistic regression cost 0.0962 after iteration 500\n",
      "Logistic regression cost 0.0945 after iteration 550\n",
      "Logistic regression cost 0.0931 after iteration 600\n",
      "Logistic regression cost 0.0918 after iteration 650\n",
      "Logistic regression cost 0.0908 after iteration 700\n",
      "Logistic regression cost 0.0899 after iteration 750\n",
      "Logistic regression cost 0.0891 after iteration 800\n",
      "Logistic regression cost 0.0884 after iteration 850\n",
      "Logistic regression cost 0.0877 after iteration 900\n",
      "Logistic regression cost 0.0872 after iteration 950\n"
     ]
    }
   ],
   "source": [
    "# Initializing the weight vector randomly\n",
    "w0 = numpy.random.randn(n_dim+1); w0[-1] = 0.\n",
    "w = numpy.copy(w0)\n",
    "\n",
    "n_iter = 1000\n",
    "eta = .1   # Learning rate\n",
    "old_cost = numpy.Inf\n",
    "\n",
    "for ni in range(n_iter):\n",
    "    pred_y = logreg(x_train, w)\n",
    "    \n",
    "    w -= eta * logreg_rule(y_train, x_train, w)    # Updating the weight vector\n",
    "    \n",
    "    cost = logreg_dist(y_train, x_train, w, avg=True)\n",
    "    \n",
    "    if numpy.mod(ni, 50) == 0:\n",
    "        print('Logistic regression cost {:.4f} after iteration {}'.format(cost, ni))\n",
    "    if cost < 1e-16 or cost / old_cost >= 1.:\n",
    "        print('Converged')\n",
    "        break\n",
    "    old_cost = cost"
   ]
  },
  {
   "cell_type": "code",
   "execution_count": 175,
   "metadata": {},
   "outputs": [
    {
     "name": "stdout",
     "output_type": "stream",
     "text": [
      "Initial: 0.901 x_1 + 0.753 x_2 + 0.000 = 0\n",
      "Final: -3.417 x_1 + -1.738 x_2 + 0.358 = 0\n"
     ]
    }
   ],
   "source": [
    "print('Initial: {:.3f} x_1 + {:.3f} x_2 + {:.3f} = 0'.format(*list(w0)))\n",
    "print('Final: {:.3f} x_1 + {:.3f} x_2 + {:.3f} = 0'.format(*list(w)))"
   ]
  },
  {
   "cell_type": "markdown",
   "metadata": {},
   "source": [
    "## 4. Visualize Final Model"
   ]
  },
  {
   "cell_type": "code",
   "execution_count": 176,
   "metadata": {
    "collapsed": true
   },
   "outputs": [],
   "source": [
    "# visualize data \n",
    "def vis_data(x, y = None, c='r', open_figure=False):\n",
    "    if open_figure:\n",
    "        plot.figure()\n",
    "    if y is None: \n",
    "        y = [None] * len(x)\n",
    "    for x_, y_ in zip(x, y):\n",
    "        if y_ is None:\n",
    "            plot.plot(x_[0], x_[1], 'o', markerfacecolor='none', markeredgecolor=c)\n",
    "        else:\n",
    "            plot.plot(x_[0], x_[1], c+'o' if y_ == 0 else c+'+')\n",
    "    plot.grid('on')"
   ]
  },
  {
   "cell_type": "code",
   "execution_count": 177,
   "metadata": {
    "collapsed": true
   },
   "outputs": [],
   "source": [
    "def vis_hyperplane(w, typ='k--'):\n",
    "\n",
    "    lim0 = plot.gca().get_xlim()\n",
    "    lim1 = plot.gca().get_ylim()\n",
    "    m0, m1 = lim0[0], lim0[1]\n",
    "\n",
    "    intercept0 = -(w[0] * m0 + w[-1])/w[1]\n",
    "    intercept1 = -(w[0] * m1 + w[-1])/w[1]\n",
    "    \n",
    "    plt1, = plot.plot([m0, m1], [intercept0, intercept1], typ)\n",
    "\n",
    "    plot.gca().set_xlim(lim0)\n",
    "    plot.gca().set_ylim(lim1)\n",
    "    \n",
    "    \n",
    "    return plt1"
   ]
  },
  {
   "cell_type": "code",
   "execution_count": 178,
   "metadata": {
    "collapsed": true
   },
   "outputs": [],
   "source": [
    "def vis_decision_boundary_contour(w, typ='k--'):\n",
    "    \n",
    "    lim0 = plot.gca().get_xlim()\n",
    "    lim1 = plot.gca().get_ylim()\n",
    "    \n",
    "    x_ = numpy.linspace(lim0[0], lim0[1], 100)\n",
    "    y_ = numpy.linspace(lim1[0], lim1[1], 100)\n",
    "    xx, yy = numpy.meshgrid(x_, y_)\n",
    "    \n",
    "    x_tra_ = numpy.concatenate([xx.ravel()[:,None], yy.ravel()[:,None]], axis=1)\n",
    "    \n",
    "    pred = logreg(x_tra_, w)\n",
    "    plt1 = plot.contourf(xx, yy, pred.reshape(xx.shape), cmap=plot.cm.coolwarm, alpha=0.4)\n",
    "    \n",
    "    plot.colorbar(plt1)\n",
    "    \n",
    "    plot.gca().set_xlim(lim0)\n",
    "    plot.gca().set_ylim(lim1)\n",
    "    \n",
    "    \n",
    "    return plt1"
   ]
  },
  {
   "cell_type": "code",
   "execution_count": 179,
   "metadata": {
    "scrolled": false
   },
   "outputs": [
    {
     "data": {
      "text/plain": [
       "<matplotlib.legend.Legend at 0x1a1d24a240>"
      ]
     },
     "execution_count": 179,
     "metadata": {},
     "output_type": "execute_result"
    },
    {
     "data": {
      "image/png": "[encoded data removed]",
      "text/plain": [
       "<matplotlib.figure.Figure at 0x11793f710>"
      ]
     },
     "metadata": {},
     "output_type": "display_data"
    }
   ],
   "source": [
    "plot.figure()\n",
    "\n",
    "vis_data(x_train, y_train, c='r')\n",
    "\n",
    "plt0 = vis_hyperplane(w0, 'k-.')\n",
    "plt1 = vis_hyperplane(w, 'k--')\n",
    "plot.legend([plt0, plt1], [\n",
    "        'Initial: ${:.3f} x_1 + {:.3f} x_2 + {:.3f} = 0$'.format(*list(w0)),\n",
    "        'Final: ${:.3f} x_1 + {:.3f} x_2 + {:.3f} = 0$'.format(*list(w))],\n",
    "           loc='best')\n",
    "\n",
    "#plot.show()"
   ]
  },
  {
   "cell_type": "code",
   "execution_count": 180,
   "metadata": {},
   "outputs": [
    {
     "data": {
      "text/plain": [
       "<matplotlib.contour.QuadContourSet at 0x117922e48>"
      ]
     },
     "execution_count": 180,
     "metadata": {},
     "output_type": "execute_result"
    },
    {
     "data": {
      "image/png": "[encoded data removed]",
      "text/plain": [
       "<matplotlib.figure.Figure at 0x117922c18>"
      ]
     },
     "metadata": {},
     "output_type": "display_data"
    }
   ],
   "source": [
    "vis_data(x_train, y_train, c= 'r', open_figure=True)\n",
    "vis_decision_boundary_contour(w)"
   ]
  },
  {
   "cell_type": "markdown",
   "metadata": {},
   "source": [
    "## 5. Testing"
   ]
  },
  {
   "cell_type": "code",
   "execution_count": 181,
   "metadata": {},
   "outputs": [
    {
     "name": "stderr",
     "output_type": "stream",
     "text": [
      "No handles with labels found to put in legend.\n"
     ]
    },
    {
     "data": {
      "text/plain": [
       "Text(0.5,1,'Decision boundary on test data')"
      ]
     },
     "execution_count": 181,
     "metadata": {},
     "output_type": "execute_result"
    },
    {
     "data": {
      "image/png": "[encoded data removed]",
      "text/plain": [
       "<matplotlib.figure.Figure at 0x1a1d44e400>"
      ]
     },
     "metadata": {},
     "output_type": "display_data"
    }
   ],
   "source": [
    "# Decision boundary on test data\n",
    "\n",
    "plot.figure()\n",
    "\n",
    "vis_data(x_test, y_test, 'b')\n",
    "\n",
    "plt1 = vis_hyperplane(w, 'k--')\n",
    "\n",
    "plot.legend([plt0, plt1], [\n",
    "        'Initial: {:.3f} x_1 + {:.3f} x_2 + {:.3f} = 0'.format(*list(w0)),\n",
    "        'Final: {:.3f} x_1 + {:.3f} x_2 + {:.3f} = 0'.format(*list(w))],\n",
    "           loc='upper right')\n",
    "\n",
    "plot.legend(fontsize = 20, loc = 'best')\n",
    "plot.title('Decision boundary on test data')\n",
    "#plot.show()"
   ]
  },
  {
   "cell_type": "code",
   "execution_count": 182,
   "metadata": {},
   "outputs": [
    {
     "name": "stdout",
     "output_type": "stream",
     "text": [
      "Training error rate 0.03, Test error rate 0.14\n"
     ]
    }
   ],
   "source": [
    "train_error = numpy.sum(numpy.abs(numpy.round(logreg(x_train, w)) - y_train)) / numpy.float(len(y_train))\n",
    "test_error = numpy.sum(numpy.abs(numpy.round(logreg(x_test, w)) - y_test)) / numpy.float(len(y_test))\n",
    "\n",
    "print('Training error rate {}, Test error rate {}'.format(train_error, test_error))"
   ]
  },
  {
   "cell_type": "markdown",
   "metadata": {
    "collapsed": true
   },
   "source": [
    "## 6. HOMEWORK - Use scikit-learn to replicate the above operations"
   ]
  },
  {
   "cell_type": "code",
   "execution_count": 183,
   "metadata": {
    "collapsed": true
   },
   "outputs": [],
   "source": [
    "# Use this cell to import required packages of sklearn\n",
    "\n",
    "from sklearn.linear_model import LogisticRegression"
   ]
  },
  {
   "cell_type": "code",
   "execution_count": 184,
   "metadata": {},
   "outputs": [],
   "source": [
    "# STEP 1: Create a Logistic Regression class instance\n",
    "\n",
    "# some other models that can be considered, discussion of these are below\n",
    "# model = LogisticRegression(C=4, fit_intercept=True, max_iter=1000, random_state=1234, tol=1e-16)\n",
    "# model = LogisticRegression(C=5, fit_intercept=True, max_iter=1000, random_state=1234, tol=1e-16)\n",
    "# model = LogisticRegression(C=10, fit_intercept=True, max_iter=1000, random_state=1234, tol=1e-16)\n",
    "\n",
    "model = LogisticRegression(C=1, fit_intercept=True, max_iter=1000, random_state=1234, tol=1e-16)"
   ]
  },
  {
   "cell_type": "code",
   "execution_count": 185,
   "metadata": {},
   "outputs": [
    {
     "data": {
      "text/plain": [
       "LogisticRegression(C=1, class_weight=None, dual=False, fit_intercept=True,\n",
       "          intercept_scaling=1, max_iter=1000, multi_class='ovr', n_jobs=1,\n",
       "          penalty='l2', random_state=1234, solver='liblinear', tol=1e-16,\n",
       "          verbose=0, warm_start=False)"
      ]
     },
     "execution_count": 185,
     "metadata": {},
     "output_type": "execute_result"
    }
   ],
   "source": [
    "# STEP 2: Fit the logistic regression model to the training data\n",
    "\n",
    "model.fit(X=x_train, y=y_train)"
   ]
  },
  {
   "cell_type": "code",
   "execution_count": 186,
   "metadata": {},
   "outputs": [],
   "source": [
    "# STEP 3: Obtain the coefficients of the learned model (read the documentation to find out how)\n",
    "# Uncomment and complete the following\n",
    "\n",
    "sk_w = numpy.append(model.coef_[0], model.intercept_)"
   ]
  },
  {
   "cell_type": "code",
   "execution_count": 187,
   "metadata": {},
   "outputs": [
    {
     "name": "stdout",
     "output_type": "stream",
     "text": [
      "Custom : -3.417 x_1 + -1.738 x_2 + 0.358 = 0\n",
      "Sklearn: -2.462 x_1 + -1.309 x_2 + 0.236 = 0\n"
     ]
    }
   ],
   "source": [
    "# STEP 4: Compare the feature coefficients obtained by sklearn and the custom module we have\n",
    "\n",
    "# Note: Print the equations of the model learned by both implementations and comment about what you observe.\n",
    "# Uncomment and complete the following\n",
    "\n",
    "print('Custom : {:.3f} x_1 + {:.3f} x_2 + {:.3f} = 0'.format(*list(w)))\n",
    "print('Sklearn: {:.3f} x_1 + {:.3f} x_2 + {:.3f} = 0'.format(*list(sk_w)))\n",
    "\n",
    "# we obtain near identical training and testing error rates (training: 0.03 (scikit) - 0.03 (custom model),\n",
    "# testing: 0.15 (scikit) - 0.14 (custom model)) for the scikit and custom models if we use identical\n",
    "# hyperparameters for each model, it could be that the scikit model found a different constant multiple\n",
    "# of the custom model however I believe that in this case that there are many decision boundaries with\n",
    "# similar training/testing errors and the scikit model found one of these rather than what the custom\n",
    "# model found\n",
    "#\n",
    "# print('{:.3f}'.format(w[0]/w[1]))\n",
    "# print('{:.3f}'.format(sk_w[0]/sk_w[1]))\n",
    "# if we uncomment the lines below we can see that the angle of the decision boundary of the scikit model\n",
    "# and the custom model are very close to each other\n",
    "#\n",
    "# if we vary the hyperparameters of the scikit models, such as removing the tolerance term and increasing/\n",
    "# decreasing the number of maximum iterations we do not observe significant changes in the scikit model\n",
    "# the biggest difference occurs when we change the regularization strength of the scikit model, as we \n",
    "# increase the regularization strength from 1 to 5 gives us equivalent errors to the custom model\n",
    "# and greatly similar coefficients to the custom model while regularization strength of 10 gives us \n",
    "# equivalent errors but different coefficients, this is also further evidence that there are more than\n",
    "# one decision boundaries with similar training/testing errors, regularization strength of 4 gives us\n",
    "# the closest match to the custom model with again same error rates, note: these other models are commented\n",
    "# as above, for the assignment submission I have chosen to use regularization strength of 1"
   ]
  },
  {
   "cell_type": "code",
   "execution_count": 188,
   "metadata": {},
   "outputs": [
    {
     "name": "stdout",
     "output_type": "stream",
     "text": [
      "Training error rate 0.03, Test error rate 0.15\n"
     ]
    }
   ],
   "source": [
    "# STEP 5: Predict the class of test data points. Print the TRAINING and TEST accuracy.\n",
    "# Uncomment and complete the following\n",
    "\n",
    "train_error = 1 - model.score(X=x_train, y=y_train)\n",
    "test_error = 1 - model.score(X=x_test, y=y_test)\n",
    "\n",
    "print('Training error rate {:.2f}, Test error rate {:.2f}'.format(train_error, test_error))"
   ]
  }
 ],
 "metadata": {
  "kernelspec": {
   "display_name": "Python 3",
   "language": "python",
   "name": "python3"
  },
  "language_info": {
   "codemirror_mode": {
    "name": "ipython",
    "version": 3
   },
   "file_extension": ".py",
   "mimetype": "text/x-python",
   "name": "python",
   "nbconvert_exporter": "python",
   "pygments_lexer": "ipython3",
   "version": "3.6.3"
  }
 },
 "nbformat": 4,
 "nbformat_minor": 1
}
